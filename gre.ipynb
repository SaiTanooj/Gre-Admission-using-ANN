{
 "cells": [
  {
   "cell_type": "code",
   "execution_count": 1,
   "id": "661f00ec-a2bd-45d4-bf2b-a8805cbc7906",
   "metadata": {},
   "outputs": [],
   "source": [
    "import pandas as pd\n",
    "import seaborn as sn\n",
    "import matplotlib.pyplot as plt"
   ]
  },
  {
   "cell_type": "code",
   "execution_count": 2,
   "id": "43ea7d8a-417e-4e80-b2a4-bca4b1d81fad",
   "metadata": {},
   "outputs": [],
   "source": [
    "df=pd.read_csv(\"Admission_Predict.csv\")"
   ]
  },
  {
   "cell_type": "code",
   "execution_count": 3,
   "id": "4247750c-338a-45bb-8336-4535a50a72de",
   "metadata": {},
   "outputs": [
    {
     "data": {
      "text/html": [
       "<div>\n",
       "<style scoped>\n",
       "    .dataframe tbody tr th:only-of-type {\n",
       "        vertical-align: middle;\n",
       "    }\n",
       "\n",
       "    .dataframe tbody tr th {\n",
       "        vertical-align: top;\n",
       "    }\n",
       "\n",
       "    .dataframe thead th {\n",
       "        text-align: right;\n",
       "    }\n",
       "</style>\n",
       "<table border=\"1\" class=\"dataframe\">\n",
       "  <thead>\n",
       "    <tr style=\"text-align: right;\">\n",
       "      <th></th>\n",
       "      <th>Serial No.</th>\n",
       "      <th>GRE Score</th>\n",
       "      <th>TOEFL Score</th>\n",
       "      <th>University Rating</th>\n",
       "      <th>SOP</th>\n",
       "      <th>LOR</th>\n",
       "      <th>CGPA</th>\n",
       "      <th>Research</th>\n",
       "      <th>Chance of Admit</th>\n",
       "    </tr>\n",
       "  </thead>\n",
       "  <tbody>\n",
       "    <tr>\n",
       "      <th>0</th>\n",
       "      <td>1</td>\n",
       "      <td>337</td>\n",
       "      <td>118</td>\n",
       "      <td>4</td>\n",
       "      <td>4.5</td>\n",
       "      <td>4.5</td>\n",
       "      <td>9.65</td>\n",
       "      <td>1</td>\n",
       "      <td>0.92</td>\n",
       "    </tr>\n",
       "    <tr>\n",
       "      <th>1</th>\n",
       "      <td>2</td>\n",
       "      <td>324</td>\n",
       "      <td>107</td>\n",
       "      <td>4</td>\n",
       "      <td>4.0</td>\n",
       "      <td>4.5</td>\n",
       "      <td>8.87</td>\n",
       "      <td>1</td>\n",
       "      <td>0.76</td>\n",
       "    </tr>\n",
       "    <tr>\n",
       "      <th>2</th>\n",
       "      <td>3</td>\n",
       "      <td>316</td>\n",
       "      <td>104</td>\n",
       "      <td>3</td>\n",
       "      <td>3.0</td>\n",
       "      <td>3.5</td>\n",
       "      <td>8.00</td>\n",
       "      <td>1</td>\n",
       "      <td>0.72</td>\n",
       "    </tr>\n",
       "    <tr>\n",
       "      <th>3</th>\n",
       "      <td>4</td>\n",
       "      <td>322</td>\n",
       "      <td>110</td>\n",
       "      <td>3</td>\n",
       "      <td>3.5</td>\n",
       "      <td>2.5</td>\n",
       "      <td>8.67</td>\n",
       "      <td>1</td>\n",
       "      <td>0.80</td>\n",
       "    </tr>\n",
       "    <tr>\n",
       "      <th>4</th>\n",
       "      <td>5</td>\n",
       "      <td>314</td>\n",
       "      <td>103</td>\n",
       "      <td>2</td>\n",
       "      <td>2.0</td>\n",
       "      <td>3.0</td>\n",
       "      <td>8.21</td>\n",
       "      <td>0</td>\n",
       "      <td>0.65</td>\n",
       "    </tr>\n",
       "  </tbody>\n",
       "</table>\n",
       "</div>"
      ],
      "text/plain": [
       "   Serial No.  GRE Score  TOEFL Score  University Rating  SOP  LOR   CGPA  \\\n",
       "0           1        337          118                  4  4.5   4.5  9.65   \n",
       "1           2        324          107                  4  4.0   4.5  8.87   \n",
       "2           3        316          104                  3  3.0   3.5  8.00   \n",
       "3           4        322          110                  3  3.5   2.5  8.67   \n",
       "4           5        314          103                  2  2.0   3.0  8.21   \n",
       "\n",
       "   Research  Chance of Admit   \n",
       "0         1              0.92  \n",
       "1         1              0.76  \n",
       "2         1              0.72  \n",
       "3         1              0.80  \n",
       "4         0              0.65  "
      ]
     },
     "execution_count": 3,
     "metadata": {},
     "output_type": "execute_result"
    }
   ],
   "source": [
    "df.head()"
   ]
  },
  {
   "cell_type": "code",
   "execution_count": 4,
   "id": "979aefbb-b277-4219-840c-de246ce53332",
   "metadata": {},
   "outputs": [
    {
     "name": "stdout",
     "output_type": "stream",
     "text": [
      "<class 'pandas.core.frame.DataFrame'>\n",
      "RangeIndex: 400 entries, 0 to 399\n",
      "Data columns (total 9 columns):\n",
      " #   Column             Non-Null Count  Dtype  \n",
      "---  ------             --------------  -----  \n",
      " 0   Serial No.         400 non-null    int64  \n",
      " 1   GRE Score          400 non-null    int64  \n",
      " 2   TOEFL Score        400 non-null    int64  \n",
      " 3   University Rating  400 non-null    int64  \n",
      " 4   SOP                400 non-null    float64\n",
      " 5   LOR                400 non-null    float64\n",
      " 6   CGPA               400 non-null    float64\n",
      " 7   Research           400 non-null    int64  \n",
      " 8   Chance of Admit    400 non-null    float64\n",
      "dtypes: float64(4), int64(5)\n",
      "memory usage: 28.2 KB\n"
     ]
    }
   ],
   "source": [
    "df.info()"
   ]
  },
  {
   "cell_type": "markdown",
   "id": "76260246-8a47-44b9-8358-894d8e483f71",
   "metadata": {},
   "source": [
    "## Analysis of GRE Score with Cahnce of Admit"
   ]
  },
  {
   "cell_type": "code",
   "execution_count": 5,
   "id": "397b9b85-a978-40e4-80cf-ddb6080820bb",
   "metadata": {},
   "outputs": [],
   "source": [
    "df['Chance of Admit '] = df['Chance of Admit '].apply(lambda x: 1 if x >= 0.75 else 0)"
   ]
  },
  {
   "cell_type": "code",
   "execution_count": 6,
   "id": "17b2e93a-e892-4b63-93a3-5ebbf5a2dc67",
   "metadata": {},
   "outputs": [
    {
     "data": {
      "text/plain": [
       "0      1\n",
       "1      1\n",
       "2      0\n",
       "3      1\n",
       "4      0\n",
       "      ..\n",
       "395    1\n",
       "396    1\n",
       "397    1\n",
       "398    0\n",
       "399    1\n",
       "Name: Chance of Admit , Length: 400, dtype: int64"
      ]
     },
     "execution_count": 6,
     "metadata": {},
     "output_type": "execute_result"
    }
   ],
   "source": [
    "df['Chance of Admit ']"
   ]
  },
  {
   "cell_type": "markdown",
   "id": "6434f497-a4d9-4147-a117-cc7837addbbb",
   "metadata": {},
   "source": [
    "#### Range of gre scores for admitted Students "
   ]
  },
  {
   "cell_type": "code",
   "execution_count": 7,
   "id": "1f2d2cba-5a0e-4a7f-beac-57800d551e99",
   "metadata": {},
   "outputs": [],
   "source": [
    "admit=df[df['Chance of Admit ']==1]"
   ]
  },
  {
   "cell_type": "code",
   "execution_count": 8,
   "id": "6155c9f8-3a07-4e90-b02c-64a94c80b52b",
   "metadata": {},
   "outputs": [
    {
     "data": {
      "text/html": [
       "<div>\n",
       "<style scoped>\n",
       "    .dataframe tbody tr th:only-of-type {\n",
       "        vertical-align: middle;\n",
       "    }\n",
       "\n",
       "    .dataframe tbody tr th {\n",
       "        vertical-align: top;\n",
       "    }\n",
       "\n",
       "    .dataframe thead th {\n",
       "        text-align: right;\n",
       "    }\n",
       "</style>\n",
       "<table border=\"1\" class=\"dataframe\">\n",
       "  <thead>\n",
       "    <tr style=\"text-align: right;\">\n",
       "      <th></th>\n",
       "      <th>Serial No.</th>\n",
       "      <th>GRE Score</th>\n",
       "      <th>TOEFL Score</th>\n",
       "      <th>University Rating</th>\n",
       "      <th>SOP</th>\n",
       "      <th>LOR</th>\n",
       "      <th>CGPA</th>\n",
       "      <th>Research</th>\n",
       "      <th>Chance of Admit</th>\n",
       "    </tr>\n",
       "  </thead>\n",
       "  <tbody>\n",
       "    <tr>\n",
       "      <th>0</th>\n",
       "      <td>1</td>\n",
       "      <td>337</td>\n",
       "      <td>118</td>\n",
       "      <td>4</td>\n",
       "      <td>4.5</td>\n",
       "      <td>4.5</td>\n",
       "      <td>9.65</td>\n",
       "      <td>1</td>\n",
       "      <td>1</td>\n",
       "    </tr>\n",
       "    <tr>\n",
       "      <th>1</th>\n",
       "      <td>2</td>\n",
       "      <td>324</td>\n",
       "      <td>107</td>\n",
       "      <td>4</td>\n",
       "      <td>4.0</td>\n",
       "      <td>4.5</td>\n",
       "      <td>8.87</td>\n",
       "      <td>1</td>\n",
       "      <td>1</td>\n",
       "    </tr>\n",
       "    <tr>\n",
       "      <th>3</th>\n",
       "      <td>4</td>\n",
       "      <td>322</td>\n",
       "      <td>110</td>\n",
       "      <td>3</td>\n",
       "      <td>3.5</td>\n",
       "      <td>2.5</td>\n",
       "      <td>8.67</td>\n",
       "      <td>1</td>\n",
       "      <td>1</td>\n",
       "    </tr>\n",
       "    <tr>\n",
       "      <th>5</th>\n",
       "      <td>6</td>\n",
       "      <td>330</td>\n",
       "      <td>115</td>\n",
       "      <td>5</td>\n",
       "      <td>4.5</td>\n",
       "      <td>3.0</td>\n",
       "      <td>9.34</td>\n",
       "      <td>1</td>\n",
       "      <td>1</td>\n",
       "    </tr>\n",
       "    <tr>\n",
       "      <th>6</th>\n",
       "      <td>7</td>\n",
       "      <td>321</td>\n",
       "      <td>109</td>\n",
       "      <td>3</td>\n",
       "      <td>3.0</td>\n",
       "      <td>4.0</td>\n",
       "      <td>8.20</td>\n",
       "      <td>1</td>\n",
       "      <td>1</td>\n",
       "    </tr>\n",
       "    <tr>\n",
       "      <th>...</th>\n",
       "      <td>...</td>\n",
       "      <td>...</td>\n",
       "      <td>...</td>\n",
       "      <td>...</td>\n",
       "      <td>...</td>\n",
       "      <td>...</td>\n",
       "      <td>...</td>\n",
       "      <td>...</td>\n",
       "      <td>...</td>\n",
       "    </tr>\n",
       "    <tr>\n",
       "      <th>394</th>\n",
       "      <td>395</td>\n",
       "      <td>329</td>\n",
       "      <td>111</td>\n",
       "      <td>4</td>\n",
       "      <td>4.5</td>\n",
       "      <td>4.0</td>\n",
       "      <td>9.23</td>\n",
       "      <td>1</td>\n",
       "      <td>1</td>\n",
       "    </tr>\n",
       "    <tr>\n",
       "      <th>395</th>\n",
       "      <td>396</td>\n",
       "      <td>324</td>\n",
       "      <td>110</td>\n",
       "      <td>3</td>\n",
       "      <td>3.5</td>\n",
       "      <td>3.5</td>\n",
       "      <td>9.04</td>\n",
       "      <td>1</td>\n",
       "      <td>1</td>\n",
       "    </tr>\n",
       "    <tr>\n",
       "      <th>396</th>\n",
       "      <td>397</td>\n",
       "      <td>325</td>\n",
       "      <td>107</td>\n",
       "      <td>3</td>\n",
       "      <td>3.0</td>\n",
       "      <td>3.5</td>\n",
       "      <td>9.11</td>\n",
       "      <td>1</td>\n",
       "      <td>1</td>\n",
       "    </tr>\n",
       "    <tr>\n",
       "      <th>397</th>\n",
       "      <td>398</td>\n",
       "      <td>330</td>\n",
       "      <td>116</td>\n",
       "      <td>4</td>\n",
       "      <td>5.0</td>\n",
       "      <td>4.5</td>\n",
       "      <td>9.45</td>\n",
       "      <td>1</td>\n",
       "      <td>1</td>\n",
       "    </tr>\n",
       "    <tr>\n",
       "      <th>399</th>\n",
       "      <td>400</td>\n",
       "      <td>333</td>\n",
       "      <td>117</td>\n",
       "      <td>4</td>\n",
       "      <td>5.0</td>\n",
       "      <td>4.0</td>\n",
       "      <td>9.66</td>\n",
       "      <td>1</td>\n",
       "      <td>1</td>\n",
       "    </tr>\n",
       "  </tbody>\n",
       "</table>\n",
       "<p>180 rows × 9 columns</p>\n",
       "</div>"
      ],
      "text/plain": [
       "     Serial No.  GRE Score  TOEFL Score  University Rating  SOP  LOR   CGPA  \\\n",
       "0             1        337          118                  4  4.5   4.5  9.65   \n",
       "1             2        324          107                  4  4.0   4.5  8.87   \n",
       "3             4        322          110                  3  3.5   2.5  8.67   \n",
       "5             6        330          115                  5  4.5   3.0  9.34   \n",
       "6             7        321          109                  3  3.0   4.0  8.20   \n",
       "..          ...        ...          ...                ...  ...   ...   ...   \n",
       "394         395        329          111                  4  4.5   4.0  9.23   \n",
       "395         396        324          110                  3  3.5   3.5  9.04   \n",
       "396         397        325          107                  3  3.0   3.5  9.11   \n",
       "397         398        330          116                  4  5.0   4.5  9.45   \n",
       "399         400        333          117                  4  5.0   4.0  9.66   \n",
       "\n",
       "     Research  Chance of Admit   \n",
       "0           1                 1  \n",
       "1           1                 1  \n",
       "3           1                 1  \n",
       "5           1                 1  \n",
       "6           1                 1  \n",
       "..        ...               ...  \n",
       "394         1                 1  \n",
       "395         1                 1  \n",
       "396         1                 1  \n",
       "397         1                 1  \n",
       "399         1                 1  \n",
       "\n",
       "[180 rows x 9 columns]"
      ]
     },
     "execution_count": 8,
     "metadata": {},
     "output_type": "execute_result"
    }
   ],
   "source": [
    "admit"
   ]
  },
  {
   "cell_type": "code",
   "execution_count": 9,
   "id": "b25574d2-1e15-4dc0-9225-462d1702d5d2",
   "metadata": {},
   "outputs": [
    {
     "data": {
      "text/plain": [
       "303"
      ]
     },
     "execution_count": 9,
     "metadata": {},
     "output_type": "execute_result"
    }
   ],
   "source": [
    "admit[\"GRE Score\"].min()"
   ]
  },
  {
   "cell_type": "code",
   "execution_count": 10,
   "id": "0cb8fafd-8bb0-4ce9-a6fd-db8fa0d8e417",
   "metadata": {},
   "outputs": [
    {
     "data": {
      "text/plain": [
       "340"
      ]
     },
     "execution_count": 10,
     "metadata": {},
     "output_type": "execute_result"
    }
   ],
   "source": [
    "admit[\"GRE Score\"].max()"
   ]
  },
  {
   "cell_type": "markdown",
   "id": "33ce5d37-4837-4d0d-9299-51a53060ebf7",
   "metadata": {},
   "source": [
    "#### Average Gre Score for admission"
   ]
  },
  {
   "cell_type": "code",
   "execution_count": 11,
   "id": "06a7cd27-8b29-4685-8388-323122dee6a0",
   "metadata": {},
   "outputs": [
    {
     "data": {
      "text/plain": [
       "325.5"
      ]
     },
     "execution_count": 11,
     "metadata": {},
     "output_type": "execute_result"
    }
   ],
   "source": [
    "admit[\"GRE Score\"].mean()"
   ]
  },
  {
   "cell_type": "markdown",
   "id": "561c77fa-1629-480d-9c36-c4f0b3c764c4",
   "metadata": {},
   "source": [
    "#### Candidates less than the average gre score "
   ]
  },
  {
   "cell_type": "code",
   "execution_count": 12,
   "id": "e2789701-7b01-4ff5-b440-0699c60590ca",
   "metadata": {},
   "outputs": [],
   "source": [
    "less_avg=admit[admit[\"GRE Score\"]<admit[\"GRE Score\"].mean()]"
   ]
  },
  {
   "cell_type": "code",
   "execution_count": 13,
   "id": "247cddff-1c64-4df5-aaf2-d51dc6c618e2",
   "metadata": {},
   "outputs": [
    {
     "data": {
      "text/plain": [
       "Serial No.  GRE Score  TOEFL Score  University Rating  SOP  LOR   CGPA  Research  Chance of Admit \n",
       "2           324        107          4                  4.0  4.5   8.87  1         1                   1\n",
       "265         325        110          2                  3.0  2.5   8.76  1         1                   1\n",
       "297         310        107          3                  3.5  3.5   8.67  0         1                   1\n",
       "290         313        109          3                  4.0  3.5   9.00  0         1                   1\n",
       "289         314        104          4                  5.0  5.0   9.02  0         1                   1\n",
       "                                                                                                     ..\n",
       "166         322        110          5                  4.5  4.0   8.97  0         1                   1\n",
       "156         312        109          3                  3.0  3.0   8.69  0         1                   1\n",
       "154         324        105          3                  3.0  4.0   8.75  0         1                   1\n",
       "153         321        112          5                  5.0  5.0   9.06  1         1                   1\n",
       "397         325        107          3                  3.0  3.5   9.11  1         1                   1\n",
       "Name: count, Length: 92, dtype: int64"
      ]
     },
     "execution_count": 13,
     "metadata": {},
     "output_type": "execute_result"
    }
   ],
   "source": [
    "less_avg.value_counts()"
   ]
  },
  {
   "cell_type": "code",
   "execution_count": 14,
   "id": "d8a09fa6-a714-4afb-966e-86c0cf8dd2dd",
   "metadata": {},
   "outputs": [
    {
     "name": "stderr",
     "output_type": "stream",
     "text": [
      "C:\\Users\\tanta\\anaconda3\\lib\\site-packages\\seaborn\\_oldcore.py:1119: FutureWarning: use_inf_as_na option is deprecated and will be removed in a future version. Convert inf values to NaN before operating instead.\n",
      "  with pd.option_context('mode.use_inf_as_na', True):\n"
     ]
    },
    {
     "data": {
      "text/plain": [
       "<Axes: xlabel='GRE Score', ylabel='Count'>"
      ]
     },
     "execution_count": 14,
     "metadata": {},
     "output_type": "execute_result"
    },
    {
     "data": {
      "image/png": "[encoded data removed]",
      "text/plain": [
       "<Figure size 640x480 with 1 Axes>"
      ]
     },
     "metadata": {},
     "output_type": "display_data"
    }
   ],
   "source": [
    "sn.histplot(data=df,x=\"GRE Score\",bins=5)"
   ]
  },
  {
   "cell_type": "markdown",
   "id": "df5371f5-f72e-493c-8f09-fc324ef629a2",
   "metadata": {},
   "source": [
    "## Analysis of TOEFL Score with Admission"
   ]
  },
  {
   "cell_type": "code",
   "execution_count": 15,
   "id": "eecb86a8-2a83-454a-a4e0-5da793b56928",
   "metadata": {},
   "outputs": [
    {
     "data": {
      "text/html": [
       "<div>\n",
       "<style scoped>\n",
       "    .dataframe tbody tr th:only-of-type {\n",
       "        vertical-align: middle;\n",
       "    }\n",
       "\n",
       "    .dataframe tbody tr th {\n",
       "        vertical-align: top;\n",
       "    }\n",
       "\n",
       "    .dataframe thead th {\n",
       "        text-align: right;\n",
       "    }\n",
       "</style>\n",
       "<table border=\"1\" class=\"dataframe\">\n",
       "  <thead>\n",
       "    <tr style=\"text-align: right;\">\n",
       "      <th></th>\n",
       "      <th>Serial No.</th>\n",
       "      <th>GRE Score</th>\n",
       "      <th>TOEFL Score</th>\n",
       "      <th>University Rating</th>\n",
       "      <th>SOP</th>\n",
       "      <th>LOR</th>\n",
       "      <th>CGPA</th>\n",
       "      <th>Research</th>\n",
       "      <th>Chance of Admit</th>\n",
       "    </tr>\n",
       "  </thead>\n",
       "  <tbody>\n",
       "    <tr>\n",
       "      <th>0</th>\n",
       "      <td>1</td>\n",
       "      <td>337</td>\n",
       "      <td>118</td>\n",
       "      <td>4</td>\n",
       "      <td>4.5</td>\n",
       "      <td>4.5</td>\n",
       "      <td>9.65</td>\n",
       "      <td>1</td>\n",
       "      <td>1</td>\n",
       "    </tr>\n",
       "    <tr>\n",
       "      <th>1</th>\n",
       "      <td>2</td>\n",
       "      <td>324</td>\n",
       "      <td>107</td>\n",
       "      <td>4</td>\n",
       "      <td>4.0</td>\n",
       "      <td>4.5</td>\n",
       "      <td>8.87</td>\n",
       "      <td>1</td>\n",
       "      <td>1</td>\n",
       "    </tr>\n",
       "    <tr>\n",
       "      <th>3</th>\n",
       "      <td>4</td>\n",
       "      <td>322</td>\n",
       "      <td>110</td>\n",
       "      <td>3</td>\n",
       "      <td>3.5</td>\n",
       "      <td>2.5</td>\n",
       "      <td>8.67</td>\n",
       "      <td>1</td>\n",
       "      <td>1</td>\n",
       "    </tr>\n",
       "    <tr>\n",
       "      <th>5</th>\n",
       "      <td>6</td>\n",
       "      <td>330</td>\n",
       "      <td>115</td>\n",
       "      <td>5</td>\n",
       "      <td>4.5</td>\n",
       "      <td>3.0</td>\n",
       "      <td>9.34</td>\n",
       "      <td>1</td>\n",
       "      <td>1</td>\n",
       "    </tr>\n",
       "    <tr>\n",
       "      <th>6</th>\n",
       "      <td>7</td>\n",
       "      <td>321</td>\n",
       "      <td>109</td>\n",
       "      <td>3</td>\n",
       "      <td>3.0</td>\n",
       "      <td>4.0</td>\n",
       "      <td>8.20</td>\n",
       "      <td>1</td>\n",
       "      <td>1</td>\n",
       "    </tr>\n",
       "    <tr>\n",
       "      <th>...</th>\n",
       "      <td>...</td>\n",
       "      <td>...</td>\n",
       "      <td>...</td>\n",
       "      <td>...</td>\n",
       "      <td>...</td>\n",
       "      <td>...</td>\n",
       "      <td>...</td>\n",
       "      <td>...</td>\n",
       "      <td>...</td>\n",
       "    </tr>\n",
       "    <tr>\n",
       "      <th>394</th>\n",
       "      <td>395</td>\n",
       "      <td>329</td>\n",
       "      <td>111</td>\n",
       "      <td>4</td>\n",
       "      <td>4.5</td>\n",
       "      <td>4.0</td>\n",
       "      <td>9.23</td>\n",
       "      <td>1</td>\n",
       "      <td>1</td>\n",
       "    </tr>\n",
       "    <tr>\n",
       "      <th>395</th>\n",
       "      <td>396</td>\n",
       "      <td>324</td>\n",
       "      <td>110</td>\n",
       "      <td>3</td>\n",
       "      <td>3.5</td>\n",
       "      <td>3.5</td>\n",
       "      <td>9.04</td>\n",
       "      <td>1</td>\n",
       "      <td>1</td>\n",
       "    </tr>\n",
       "    <tr>\n",
       "      <th>396</th>\n",
       "      <td>397</td>\n",
       "      <td>325</td>\n",
       "      <td>107</td>\n",
       "      <td>3</td>\n",
       "      <td>3.0</td>\n",
       "      <td>3.5</td>\n",
       "      <td>9.11</td>\n",
       "      <td>1</td>\n",
       "      <td>1</td>\n",
       "    </tr>\n",
       "    <tr>\n",
       "      <th>397</th>\n",
       "      <td>398</td>\n",
       "      <td>330</td>\n",
       "      <td>116</td>\n",
       "      <td>4</td>\n",
       "      <td>5.0</td>\n",
       "      <td>4.5</td>\n",
       "      <td>9.45</td>\n",
       "      <td>1</td>\n",
       "      <td>1</td>\n",
       "    </tr>\n",
       "    <tr>\n",
       "      <th>399</th>\n",
       "      <td>400</td>\n",
       "      <td>333</td>\n",
       "      <td>117</td>\n",
       "      <td>4</td>\n",
       "      <td>5.0</td>\n",
       "      <td>4.0</td>\n",
       "      <td>9.66</td>\n",
       "      <td>1</td>\n",
       "      <td>1</td>\n",
       "    </tr>\n",
       "  </tbody>\n",
       "</table>\n",
       "<p>180 rows × 9 columns</p>\n",
       "</div>"
      ],
      "text/plain": [
       "     Serial No.  GRE Score  TOEFL Score  University Rating  SOP  LOR   CGPA  \\\n",
       "0             1        337          118                  4  4.5   4.5  9.65   \n",
       "1             2        324          107                  4  4.0   4.5  8.87   \n",
       "3             4        322          110                  3  3.5   2.5  8.67   \n",
       "5             6        330          115                  5  4.5   3.0  9.34   \n",
       "6             7        321          109                  3  3.0   4.0  8.20   \n",
       "..          ...        ...          ...                ...  ...   ...   ...   \n",
       "394         395        329          111                  4  4.5   4.0  9.23   \n",
       "395         396        324          110                  3  3.5   3.5  9.04   \n",
       "396         397        325          107                  3  3.0   3.5  9.11   \n",
       "397         398        330          116                  4  5.0   4.5  9.45   \n",
       "399         400        333          117                  4  5.0   4.0  9.66   \n",
       "\n",
       "     Research  Chance of Admit   \n",
       "0           1                 1  \n",
       "1           1                 1  \n",
       "3           1                 1  \n",
       "5           1                 1  \n",
       "6           1                 1  \n",
       "..        ...               ...  \n",
       "394         1                 1  \n",
       "395         1                 1  \n",
       "396         1                 1  \n",
       "397         1                 1  \n",
       "399         1                 1  \n",
       "\n",
       "[180 rows x 9 columns]"
      ]
     },
     "execution_count": 15,
     "metadata": {},
     "output_type": "execute_result"
    }
   ],
   "source": [
    "admit"
   ]
  },
  {
   "cell_type": "markdown",
   "id": "5361e5a1-aee5-4fd5-bfbf-68e308cb94ad",
   "metadata": {},
   "source": [
    "### Analyse total number of admitted and not admitted cancidates"
   ]
  },
  {
   "cell_type": "code",
   "execution_count": 16,
   "id": "1ebb81e6-1e07-42a5-8c9c-e8b1bdee38dd",
   "metadata": {},
   "outputs": [
    {
     "data": {
      "text/plain": [
       "<Axes: ylabel='count'>"
      ]
     },
     "execution_count": 16,
     "metadata": {},
     "output_type": "execute_result"
    },
    {
     "data": {
      "image/png": "[encoded data removed]",
      "text/plain": [
       "<Figure size 640x480 with 1 Axes>"
      ]
     },
     "metadata": {},
     "output_type": "display_data"
    }
   ],
   "source": [
    "df[\"Chance of Admit \"].value_counts().plot(kind=\"pie\",autopct=\"%0.2f\")"
   ]
  },
  {
   "cell_type": "code",
   "execution_count": 17,
   "id": "ccea7f6a-9a52-437d-b584-0ecec2bc9833",
   "metadata": {},
   "outputs": [
    {
     "data": {
      "text/plain": [
       "Chance of Admit \n",
       "0    220\n",
       "1    180\n",
       "Name: count, dtype: int64"
      ]
     },
     "execution_count": 17,
     "metadata": {},
     "output_type": "execute_result"
    }
   ],
   "source": [
    "df[\"Chance of Admit \"].value_counts()"
   ]
  },
  {
   "cell_type": "code",
   "execution_count": 18,
   "id": "3ac6110c-bc3e-4887-baa1-fbf85b99490a",
   "metadata": {},
   "outputs": [
    {
     "data": {
      "text/plain": [
       "98"
      ]
     },
     "execution_count": 18,
     "metadata": {},
     "output_type": "execute_result"
    }
   ],
   "source": [
    "admit[\"TOEFL Score\"].min()"
   ]
  },
  {
   "cell_type": "code",
   "execution_count": 19,
   "id": "173ee3ad-cf58-4a1c-9996-9568bd5f35a8",
   "metadata": {},
   "outputs": [
    {
     "data": {
      "text/plain": [
       "120"
      ]
     },
     "execution_count": 19,
     "metadata": {},
     "output_type": "execute_result"
    }
   ],
   "source": [
    "admit[\"TOEFL Score\"].max()"
   ]
  },
  {
   "cell_type": "code",
   "execution_count": 20,
   "id": "294e907e-78b3-466e-bafc-b3f1c81c5d66",
   "metadata": {},
   "outputs": [
    {
     "data": {
      "text/plain": [
       "107.41"
      ]
     },
     "execution_count": 20,
     "metadata": {},
     "output_type": "execute_result"
    }
   ],
   "source": [
    "df[\"TOEFL Score\"].mean()"
   ]
  },
  {
   "cell_type": "code",
   "execution_count": 21,
   "id": "0367f5a1-bc78-4bda-824d-b04d45511f8d",
   "metadata": {},
   "outputs": [],
   "source": [
    "lesstoefl_avg=admit[admit[\"TOEFL Score\"]<admit[\"TOEFL Score\"].mean()]"
   ]
  },
  {
   "cell_type": "code",
   "execution_count": 22,
   "id": "f3d2460f-4058-49b3-b730-3ed50d34ed52",
   "metadata": {},
   "outputs": [
    {
     "data": {
      "text/html": [
       "<div>\n",
       "<style scoped>\n",
       "    .dataframe tbody tr th:only-of-type {\n",
       "        vertical-align: middle;\n",
       "    }\n",
       "\n",
       "    .dataframe tbody tr th {\n",
       "        vertical-align: top;\n",
       "    }\n",
       "\n",
       "    .dataframe thead th {\n",
       "        text-align: right;\n",
       "    }\n",
       "</style>\n",
       "<table border=\"1\" class=\"dataframe\">\n",
       "  <thead>\n",
       "    <tr style=\"text-align: right;\">\n",
       "      <th></th>\n",
       "      <th>Serial No.</th>\n",
       "      <th>GRE Score</th>\n",
       "      <th>TOEFL Score</th>\n",
       "      <th>University Rating</th>\n",
       "      <th>SOP</th>\n",
       "      <th>LOR</th>\n",
       "      <th>CGPA</th>\n",
       "      <th>Research</th>\n",
       "      <th>Chance of Admit</th>\n",
       "    </tr>\n",
       "  </thead>\n",
       "  <tbody>\n",
       "    <tr>\n",
       "      <th>1</th>\n",
       "      <td>2</td>\n",
       "      <td>324</td>\n",
       "      <td>107</td>\n",
       "      <td>4</td>\n",
       "      <td>4.0</td>\n",
       "      <td>4.5</td>\n",
       "      <td>8.87</td>\n",
       "      <td>1</td>\n",
       "      <td>1</td>\n",
       "    </tr>\n",
       "    <tr>\n",
       "      <th>3</th>\n",
       "      <td>4</td>\n",
       "      <td>322</td>\n",
       "      <td>110</td>\n",
       "      <td>3</td>\n",
       "      <td>3.5</td>\n",
       "      <td>2.5</td>\n",
       "      <td>8.67</td>\n",
       "      <td>1</td>\n",
       "      <td>1</td>\n",
       "    </tr>\n",
       "    <tr>\n",
       "      <th>6</th>\n",
       "      <td>7</td>\n",
       "      <td>321</td>\n",
       "      <td>109</td>\n",
       "      <td>3</td>\n",
       "      <td>3.0</td>\n",
       "      <td>4.0</td>\n",
       "      <td>8.20</td>\n",
       "      <td>1</td>\n",
       "      <td>1</td>\n",
       "    </tr>\n",
       "    <tr>\n",
       "      <th>11</th>\n",
       "      <td>12</td>\n",
       "      <td>327</td>\n",
       "      <td>111</td>\n",
       "      <td>4</td>\n",
       "      <td>4.0</td>\n",
       "      <td>4.5</td>\n",
       "      <td>9.00</td>\n",
       "      <td>1</td>\n",
       "      <td>1</td>\n",
       "    </tr>\n",
       "    <tr>\n",
       "      <th>26</th>\n",
       "      <td>27</td>\n",
       "      <td>322</td>\n",
       "      <td>109</td>\n",
       "      <td>5</td>\n",
       "      <td>4.5</td>\n",
       "      <td>3.5</td>\n",
       "      <td>8.80</td>\n",
       "      <td>0</td>\n",
       "      <td>1</td>\n",
       "    </tr>\n",
       "    <tr>\n",
       "      <th>...</th>\n",
       "      <td>...</td>\n",
       "      <td>...</td>\n",
       "      <td>...</td>\n",
       "      <td>...</td>\n",
       "      <td>...</td>\n",
       "      <td>...</td>\n",
       "      <td>...</td>\n",
       "      <td>...</td>\n",
       "      <td>...</td>\n",
       "    </tr>\n",
       "    <tr>\n",
       "      <th>389</th>\n",
       "      <td>390</td>\n",
       "      <td>320</td>\n",
       "      <td>108</td>\n",
       "      <td>3</td>\n",
       "      <td>3.5</td>\n",
       "      <td>4.0</td>\n",
       "      <td>8.44</td>\n",
       "      <td>1</td>\n",
       "      <td>1</td>\n",
       "    </tr>\n",
       "    <tr>\n",
       "      <th>393</th>\n",
       "      <td>394</td>\n",
       "      <td>317</td>\n",
       "      <td>104</td>\n",
       "      <td>2</td>\n",
       "      <td>3.0</td>\n",
       "      <td>3.0</td>\n",
       "      <td>8.76</td>\n",
       "      <td>0</td>\n",
       "      <td>1</td>\n",
       "    </tr>\n",
       "    <tr>\n",
       "      <th>394</th>\n",
       "      <td>395</td>\n",
       "      <td>329</td>\n",
       "      <td>111</td>\n",
       "      <td>4</td>\n",
       "      <td>4.5</td>\n",
       "      <td>4.0</td>\n",
       "      <td>9.23</td>\n",
       "      <td>1</td>\n",
       "      <td>1</td>\n",
       "    </tr>\n",
       "    <tr>\n",
       "      <th>395</th>\n",
       "      <td>396</td>\n",
       "      <td>324</td>\n",
       "      <td>110</td>\n",
       "      <td>3</td>\n",
       "      <td>3.5</td>\n",
       "      <td>3.5</td>\n",
       "      <td>9.04</td>\n",
       "      <td>1</td>\n",
       "      <td>1</td>\n",
       "    </tr>\n",
       "    <tr>\n",
       "      <th>396</th>\n",
       "      <td>397</td>\n",
       "      <td>325</td>\n",
       "      <td>107</td>\n",
       "      <td>3</td>\n",
       "      <td>3.0</td>\n",
       "      <td>3.5</td>\n",
       "      <td>9.11</td>\n",
       "      <td>1</td>\n",
       "      <td>1</td>\n",
       "    </tr>\n",
       "  </tbody>\n",
       "</table>\n",
       "<p>87 rows × 9 columns</p>\n",
       "</div>"
      ],
      "text/plain": [
       "     Serial No.  GRE Score  TOEFL Score  University Rating  SOP  LOR   CGPA  \\\n",
       "1             2        324          107                  4  4.0   4.5  8.87   \n",
       "3             4        322          110                  3  3.5   2.5  8.67   \n",
       "6             7        321          109                  3  3.0   4.0  8.20   \n",
       "11           12        327          111                  4  4.0   4.5  9.00   \n",
       "26           27        322          109                  5  4.5   3.5  8.80   \n",
       "..          ...        ...          ...                ...  ...   ...   ...   \n",
       "389         390        320          108                  3  3.5   4.0  8.44   \n",
       "393         394        317          104                  2  3.0   3.0  8.76   \n",
       "394         395        329          111                  4  4.5   4.0  9.23   \n",
       "395         396        324          110                  3  3.5   3.5  9.04   \n",
       "396         397        325          107                  3  3.0   3.5  9.11   \n",
       "\n",
       "     Research  Chance of Admit   \n",
       "1           1                 1  \n",
       "3           1                 1  \n",
       "6           1                 1  \n",
       "11          1                 1  \n",
       "26          0                 1  \n",
       "..        ...               ...  \n",
       "389         1                 1  \n",
       "393         0                 1  \n",
       "394         1                 1  \n",
       "395         1                 1  \n",
       "396         1                 1  \n",
       "\n",
       "[87 rows x 9 columns]"
      ]
     },
     "execution_count": 22,
     "metadata": {},
     "output_type": "execute_result"
    }
   ],
   "source": [
    "lesstoefl_avg"
   ]
  },
  {
   "cell_type": "code",
   "execution_count": 23,
   "id": "8f1709bf-6e52-41d2-aea6-2ab15e36e16c",
   "metadata": {},
   "outputs": [
    {
     "data": {
      "text/html": [
       "<div>\n",
       "<style scoped>\n",
       "    .dataframe tbody tr th:only-of-type {\n",
       "        vertical-align: middle;\n",
       "    }\n",
       "\n",
       "    .dataframe tbody tr th {\n",
       "        vertical-align: top;\n",
       "    }\n",
       "\n",
       "    .dataframe thead th {\n",
       "        text-align: right;\n",
       "    }\n",
       "</style>\n",
       "<table border=\"1\" class=\"dataframe\">\n",
       "  <thead>\n",
       "    <tr style=\"text-align: right;\">\n",
       "      <th></th>\n",
       "      <th>Serial No.</th>\n",
       "      <th>GRE Score</th>\n",
       "      <th>TOEFL Score</th>\n",
       "      <th>University Rating</th>\n",
       "      <th>SOP</th>\n",
       "      <th>LOR</th>\n",
       "      <th>CGPA</th>\n",
       "      <th>Research</th>\n",
       "      <th>Chance of Admit</th>\n",
       "    </tr>\n",
       "  </thead>\n",
       "  <tbody>\n",
       "    <tr>\n",
       "      <th>count</th>\n",
       "      <td>180.000000</td>\n",
       "      <td>180.000000</td>\n",
       "      <td>180.000000</td>\n",
       "      <td>180.000000</td>\n",
       "      <td>180.000000</td>\n",
       "      <td>180.000000</td>\n",
       "      <td>180.000000</td>\n",
       "      <td>180.000000</td>\n",
       "      <td>180.0</td>\n",
       "    </tr>\n",
       "    <tr>\n",
       "      <th>mean</th>\n",
       "      <td>202.638889</td>\n",
       "      <td>325.500000</td>\n",
       "      <td>111.916667</td>\n",
       "      <td>3.894444</td>\n",
       "      <td>4.080556</td>\n",
       "      <td>4.005556</td>\n",
       "      <td>9.084389</td>\n",
       "      <td>0.833333</td>\n",
       "      <td>1.0</td>\n",
       "    </tr>\n",
       "    <tr>\n",
       "      <th>std</th>\n",
       "      <td>111.412754</td>\n",
       "      <td>7.992664</td>\n",
       "      <td>4.620666</td>\n",
       "      <td>0.930533</td>\n",
       "      <td>0.709402</td>\n",
       "      <td>0.745543</td>\n",
       "      <td>0.388569</td>\n",
       "      <td>0.373718</td>\n",
       "      <td>0.0</td>\n",
       "    </tr>\n",
       "    <tr>\n",
       "      <th>min</th>\n",
       "      <td>1.000000</td>\n",
       "      <td>303.000000</td>\n",
       "      <td>98.000000</td>\n",
       "      <td>1.000000</td>\n",
       "      <td>2.000000</td>\n",
       "      <td>1.500000</td>\n",
       "      <td>8.000000</td>\n",
       "      <td>0.000000</td>\n",
       "      <td>1.0</td>\n",
       "    </tr>\n",
       "    <tr>\n",
       "      <th>25%</th>\n",
       "      <td>128.750000</td>\n",
       "      <td>321.000000</td>\n",
       "      <td>109.000000</td>\n",
       "      <td>3.000000</td>\n",
       "      <td>3.500000</td>\n",
       "      <td>3.500000</td>\n",
       "      <td>8.790000</td>\n",
       "      <td>1.000000</td>\n",
       "      <td>1.0</td>\n",
       "    </tr>\n",
       "    <tr>\n",
       "      <th>50%</th>\n",
       "      <td>194.500000</td>\n",
       "      <td>325.000000</td>\n",
       "      <td>112.000000</td>\n",
       "      <td>4.000000</td>\n",
       "      <td>4.000000</td>\n",
       "      <td>4.000000</td>\n",
       "      <td>9.105000</td>\n",
       "      <td>1.000000</td>\n",
       "      <td>1.0</td>\n",
       "    </tr>\n",
       "    <tr>\n",
       "      <th>75%</th>\n",
       "      <td>288.250000</td>\n",
       "      <td>331.000000</td>\n",
       "      <td>115.000000</td>\n",
       "      <td>5.000000</td>\n",
       "      <td>4.500000</td>\n",
       "      <td>4.500000</td>\n",
       "      <td>9.352500</td>\n",
       "      <td>1.000000</td>\n",
       "      <td>1.0</td>\n",
       "    </tr>\n",
       "    <tr>\n",
       "      <th>max</th>\n",
       "      <td>400.000000</td>\n",
       "      <td>340.000000</td>\n",
       "      <td>120.000000</td>\n",
       "      <td>5.000000</td>\n",
       "      <td>5.000000</td>\n",
       "      <td>5.000000</td>\n",
       "      <td>9.920000</td>\n",
       "      <td>1.000000</td>\n",
       "      <td>1.0</td>\n",
       "    </tr>\n",
       "  </tbody>\n",
       "</table>\n",
       "</div>"
      ],
      "text/plain": [
       "       Serial No.   GRE Score  TOEFL Score  University Rating         SOP  \\\n",
       "count  180.000000  180.000000   180.000000         180.000000  180.000000   \n",
       "mean   202.638889  325.500000   111.916667           3.894444    4.080556   \n",
       "std    111.412754    7.992664     4.620666           0.930533    0.709402   \n",
       "min      1.000000  303.000000    98.000000           1.000000    2.000000   \n",
       "25%    128.750000  321.000000   109.000000           3.000000    3.500000   \n",
       "50%    194.500000  325.000000   112.000000           4.000000    4.000000   \n",
       "75%    288.250000  331.000000   115.000000           5.000000    4.500000   \n",
       "max    400.000000  340.000000   120.000000           5.000000    5.000000   \n",
       "\n",
       "             LOR         CGPA    Research  Chance of Admit   \n",
       "count  180.000000  180.000000  180.000000             180.0  \n",
       "mean     4.005556    9.084389    0.833333               1.0  \n",
       "std      0.745543    0.388569    0.373718               0.0  \n",
       "min      1.500000    8.000000    0.000000               1.0  \n",
       "25%      3.500000    8.790000    1.000000               1.0  \n",
       "50%      4.000000    9.105000    1.000000               1.0  \n",
       "75%      4.500000    9.352500    1.000000               1.0  \n",
       "max      5.000000    9.920000    1.000000               1.0  "
      ]
     },
     "execution_count": 23,
     "metadata": {},
     "output_type": "execute_result"
    }
   ],
   "source": [
    "admit.describe()"
   ]
  },
  {
   "cell_type": "code",
   "execution_count": 24,
   "id": "8eb595f8-8189-461d-8a57-509d5c7cca93",
   "metadata": {},
   "outputs": [
    {
     "data": {
      "text/html": [
       "<div>\n",
       "<style scoped>\n",
       "    .dataframe tbody tr th:only-of-type {\n",
       "        vertical-align: middle;\n",
       "    }\n",
       "\n",
       "    .dataframe tbody tr th {\n",
       "        vertical-align: top;\n",
       "    }\n",
       "\n",
       "    .dataframe thead th {\n",
       "        text-align: right;\n",
       "    }\n",
       "</style>\n",
       "<table border=\"1\" class=\"dataframe\">\n",
       "  <thead>\n",
       "    <tr style=\"text-align: right;\">\n",
       "      <th></th>\n",
       "      <th>Serial No.</th>\n",
       "      <th>GRE Score</th>\n",
       "      <th>TOEFL Score</th>\n",
       "      <th>University Rating</th>\n",
       "      <th>SOP</th>\n",
       "      <th>LOR</th>\n",
       "      <th>CGPA</th>\n",
       "      <th>Research</th>\n",
       "      <th>Chance of Admit</th>\n",
       "    </tr>\n",
       "  </thead>\n",
       "  <tbody>\n",
       "    <tr>\n",
       "      <th>Serial No.</th>\n",
       "      <td>1.000000</td>\n",
       "      <td>-0.165471</td>\n",
       "      <td>-0.215361</td>\n",
       "      <td>-0.250888</td>\n",
       "      <td>-0.117884</td>\n",
       "      <td>-0.161090</td>\n",
       "      <td>-0.152252</td>\n",
       "      <td>0.012769</td>\n",
       "      <td>NaN</td>\n",
       "    </tr>\n",
       "    <tr>\n",
       "      <th>GRE Score</th>\n",
       "      <td>-0.165471</td>\n",
       "      <td>1.000000</td>\n",
       "      <td>0.756271</td>\n",
       "      <td>0.466837</td>\n",
       "      <td>0.371207</td>\n",
       "      <td>0.283132</td>\n",
       "      <td>0.761953</td>\n",
       "      <td>0.428299</td>\n",
       "      <td>NaN</td>\n",
       "    </tr>\n",
       "    <tr>\n",
       "      <th>TOEFL Score</th>\n",
       "      <td>-0.215361</td>\n",
       "      <td>0.756271</td>\n",
       "      <td>1.000000</td>\n",
       "      <td>0.429312</td>\n",
       "      <td>0.385530</td>\n",
       "      <td>0.259607</td>\n",
       "      <td>0.700767</td>\n",
       "      <td>0.302490</td>\n",
       "      <td>NaN</td>\n",
       "    </tr>\n",
       "    <tr>\n",
       "      <th>University Rating</th>\n",
       "      <td>-0.250888</td>\n",
       "      <td>0.466837</td>\n",
       "      <td>0.429312</td>\n",
       "      <td>1.000000</td>\n",
       "      <td>0.643445</td>\n",
       "      <td>0.556488</td>\n",
       "      <td>0.537581</td>\n",
       "      <td>0.206163</td>\n",
       "      <td>NaN</td>\n",
       "    </tr>\n",
       "    <tr>\n",
       "      <th>SOP</th>\n",
       "      <td>-0.117884</td>\n",
       "      <td>0.371207</td>\n",
       "      <td>0.385530</td>\n",
       "      <td>0.643445</td>\n",
       "      <td>1.000000</td>\n",
       "      <td>0.635562</td>\n",
       "      <td>0.547943</td>\n",
       "      <td>0.124678</td>\n",
       "      <td>NaN</td>\n",
       "    </tr>\n",
       "    <tr>\n",
       "      <th>LOR</th>\n",
       "      <td>-0.161090</td>\n",
       "      <td>0.283132</td>\n",
       "      <td>0.259607</td>\n",
       "      <td>0.556488</td>\n",
       "      <td>0.635562</td>\n",
       "      <td>1.000000</td>\n",
       "      <td>0.432175</td>\n",
       "      <td>0.093570</td>\n",
       "      <td>NaN</td>\n",
       "    </tr>\n",
       "    <tr>\n",
       "      <th>CGPA</th>\n",
       "      <td>-0.152252</td>\n",
       "      <td>0.761953</td>\n",
       "      <td>0.700767</td>\n",
       "      <td>0.537581</td>\n",
       "      <td>0.547943</td>\n",
       "      <td>0.432175</td>\n",
       "      <td>1.000000</td>\n",
       "      <td>0.317836</td>\n",
       "      <td>NaN</td>\n",
       "    </tr>\n",
       "    <tr>\n",
       "      <th>Research</th>\n",
       "      <td>0.012769</td>\n",
       "      <td>0.428299</td>\n",
       "      <td>0.302490</td>\n",
       "      <td>0.206163</td>\n",
       "      <td>0.124678</td>\n",
       "      <td>0.093570</td>\n",
       "      <td>0.317836</td>\n",
       "      <td>1.000000</td>\n",
       "      <td>NaN</td>\n",
       "    </tr>\n",
       "    <tr>\n",
       "      <th>Chance of Admit</th>\n",
       "      <td>NaN</td>\n",
       "      <td>NaN</td>\n",
       "      <td>NaN</td>\n",
       "      <td>NaN</td>\n",
       "      <td>NaN</td>\n",
       "      <td>NaN</td>\n",
       "      <td>NaN</td>\n",
       "      <td>NaN</td>\n",
       "      <td>NaN</td>\n",
       "    </tr>\n",
       "  </tbody>\n",
       "</table>\n",
       "</div>"
      ],
      "text/plain": [
       "                   Serial No.  GRE Score  TOEFL Score  University Rating  \\\n",
       "Serial No.           1.000000  -0.165471    -0.215361          -0.250888   \n",
       "GRE Score           -0.165471   1.000000     0.756271           0.466837   \n",
       "TOEFL Score         -0.215361   0.756271     1.000000           0.429312   \n",
       "University Rating   -0.250888   0.466837     0.429312           1.000000   \n",
       "SOP                 -0.117884   0.371207     0.385530           0.643445   \n",
       "LOR                 -0.161090   0.283132     0.259607           0.556488   \n",
       "CGPA                -0.152252   0.761953     0.700767           0.537581   \n",
       "Research             0.012769   0.428299     0.302490           0.206163   \n",
       "Chance of Admit           NaN        NaN          NaN                NaN   \n",
       "\n",
       "                        SOP      LOR       CGPA  Research  Chance of Admit   \n",
       "Serial No.        -0.117884 -0.161090 -0.152252  0.012769               NaN  \n",
       "GRE Score          0.371207  0.283132  0.761953  0.428299               NaN  \n",
       "TOEFL Score        0.385530  0.259607  0.700767  0.302490               NaN  \n",
       "University Rating  0.643445  0.556488  0.537581  0.206163               NaN  \n",
       "SOP                1.000000  0.635562  0.547943  0.124678               NaN  \n",
       "LOR                0.635562  1.000000  0.432175  0.093570               NaN  \n",
       "CGPA               0.547943  0.432175  1.000000  0.317836               NaN  \n",
       "Research           0.124678  0.093570  0.317836  1.000000               NaN  \n",
       "Chance of Admit         NaN       NaN       NaN       NaN               NaN  "
      ]
     },
     "execution_count": 24,
     "metadata": {},
     "output_type": "execute_result"
    }
   ],
   "source": [
    "admit.corr()"
   ]
  },
  {
   "cell_type": "code",
   "execution_count": 25,
   "id": "27fa819c-07bf-4529-bea3-f37ba492c0c6",
   "metadata": {},
   "outputs": [
    {
     "data": {
      "text/plain": [
       "<Axes: >"
      ]
     },
     "execution_count": 25,
     "metadata": {},
     "output_type": "execute_result"
    },
    {
     "data": {
      "image/png": "[encoded data removed]",
      "text/plain": [
       "<Figure size 800x800 with 2 Axes>"
      ]
     },
     "metadata": {},
     "output_type": "display_data"
    }
   ],
   "source": [
    "plt.figure(figsize=(8,8))\n",
    "sn.heatmap(df.corr(),annot=True)"
   ]
  },
  {
   "cell_type": "markdown",
   "id": "c8256025-0cd2-490f-85e0-07936deaded4",
   "metadata": {},
   "source": [
    "## Feature Engineering "
   ]
  },
  {
   "cell_type": "markdown",
   "id": "512e9174-fd48-45ea-a473-35f7c8e9621d",
   "metadata": {},
   "source": [
    "#### Extra Tree Selector"
   ]
  },
  {
   "cell_type": "code",
   "execution_count": 26,
   "id": "891ebd9d-e44c-4e2c-a589-ba780e102ec1",
   "metadata": {},
   "outputs": [],
   "source": [
    "x=df.loc[:,\"GRE Score\":\"Research\"]"
   ]
  },
  {
   "cell_type": "code",
   "execution_count": 27,
   "id": "cef55bc5-3a2e-4645-bd4f-2692ec56a064",
   "metadata": {},
   "outputs": [
    {
     "data": {
      "text/html": [
       "<div>\n",
       "<style scoped>\n",
       "    .dataframe tbody tr th:only-of-type {\n",
       "        vertical-align: middle;\n",
       "    }\n",
       "\n",
       "    .dataframe tbody tr th {\n",
       "        vertical-align: top;\n",
       "    }\n",
       "\n",
       "    .dataframe thead th {\n",
       "        text-align: right;\n",
       "    }\n",
       "</style>\n",
       "<table border=\"1\" class=\"dataframe\">\n",
       "  <thead>\n",
       "    <tr style=\"text-align: right;\">\n",
       "      <th></th>\n",
       "      <th>GRE Score</th>\n",
       "      <th>TOEFL Score</th>\n",
       "      <th>University Rating</th>\n",
       "      <th>SOP</th>\n",
       "      <th>LOR</th>\n",
       "      <th>CGPA</th>\n",
       "      <th>Research</th>\n",
       "    </tr>\n",
       "  </thead>\n",
       "  <tbody>\n",
       "    <tr>\n",
       "      <th>0</th>\n",
       "      <td>337</td>\n",
       "      <td>118</td>\n",
       "      <td>4</td>\n",
       "      <td>4.5</td>\n",
       "      <td>4.5</td>\n",
       "      <td>9.65</td>\n",
       "      <td>1</td>\n",
       "    </tr>\n",
       "    <tr>\n",
       "      <th>1</th>\n",
       "      <td>324</td>\n",
       "      <td>107</td>\n",
       "      <td>4</td>\n",
       "      <td>4.0</td>\n",
       "      <td>4.5</td>\n",
       "      <td>8.87</td>\n",
       "      <td>1</td>\n",
       "    </tr>\n",
       "    <tr>\n",
       "      <th>2</th>\n",
       "      <td>316</td>\n",
       "      <td>104</td>\n",
       "      <td>3</td>\n",
       "      <td>3.0</td>\n",
       "      <td>3.5</td>\n",
       "      <td>8.00</td>\n",
       "      <td>1</td>\n",
       "    </tr>\n",
       "    <tr>\n",
       "      <th>3</th>\n",
       "      <td>322</td>\n",
       "      <td>110</td>\n",
       "      <td>3</td>\n",
       "      <td>3.5</td>\n",
       "      <td>2.5</td>\n",
       "      <td>8.67</td>\n",
       "      <td>1</td>\n",
       "    </tr>\n",
       "    <tr>\n",
       "      <th>4</th>\n",
       "      <td>314</td>\n",
       "      <td>103</td>\n",
       "      <td>2</td>\n",
       "      <td>2.0</td>\n",
       "      <td>3.0</td>\n",
       "      <td>8.21</td>\n",
       "      <td>0</td>\n",
       "    </tr>\n",
       "    <tr>\n",
       "      <th>...</th>\n",
       "      <td>...</td>\n",
       "      <td>...</td>\n",
       "      <td>...</td>\n",
       "      <td>...</td>\n",
       "      <td>...</td>\n",
       "      <td>...</td>\n",
       "      <td>...</td>\n",
       "    </tr>\n",
       "    <tr>\n",
       "      <th>395</th>\n",
       "      <td>324</td>\n",
       "      <td>110</td>\n",
       "      <td>3</td>\n",
       "      <td>3.5</td>\n",
       "      <td>3.5</td>\n",
       "      <td>9.04</td>\n",
       "      <td>1</td>\n",
       "    </tr>\n",
       "    <tr>\n",
       "      <th>396</th>\n",
       "      <td>325</td>\n",
       "      <td>107</td>\n",
       "      <td>3</td>\n",
       "      <td>3.0</td>\n",
       "      <td>3.5</td>\n",
       "      <td>9.11</td>\n",
       "      <td>1</td>\n",
       "    </tr>\n",
       "    <tr>\n",
       "      <th>397</th>\n",
       "      <td>330</td>\n",
       "      <td>116</td>\n",
       "      <td>4</td>\n",
       "      <td>5.0</td>\n",
       "      <td>4.5</td>\n",
       "      <td>9.45</td>\n",
       "      <td>1</td>\n",
       "    </tr>\n",
       "    <tr>\n",
       "      <th>398</th>\n",
       "      <td>312</td>\n",
       "      <td>103</td>\n",
       "      <td>3</td>\n",
       "      <td>3.5</td>\n",
       "      <td>4.0</td>\n",
       "      <td>8.78</td>\n",
       "      <td>0</td>\n",
       "    </tr>\n",
       "    <tr>\n",
       "      <th>399</th>\n",
       "      <td>333</td>\n",
       "      <td>117</td>\n",
       "      <td>4</td>\n",
       "      <td>5.0</td>\n",
       "      <td>4.0</td>\n",
       "      <td>9.66</td>\n",
       "      <td>1</td>\n",
       "    </tr>\n",
       "  </tbody>\n",
       "</table>\n",
       "<p>400 rows × 7 columns</p>\n",
       "</div>"
      ],
      "text/plain": [
       "     GRE Score  TOEFL Score  University Rating  SOP  LOR   CGPA  Research\n",
       "0          337          118                  4  4.5   4.5  9.65         1\n",
       "1          324          107                  4  4.0   4.5  8.87         1\n",
       "2          316          104                  3  3.0   3.5  8.00         1\n",
       "3          322          110                  3  3.5   2.5  8.67         1\n",
       "4          314          103                  2  2.0   3.0  8.21         0\n",
       "..         ...          ...                ...  ...   ...   ...       ...\n",
       "395        324          110                  3  3.5   3.5  9.04         1\n",
       "396        325          107                  3  3.0   3.5  9.11         1\n",
       "397        330          116                  4  5.0   4.5  9.45         1\n",
       "398        312          103                  3  3.5   4.0  8.78         0\n",
       "399        333          117                  4  5.0   4.0  9.66         1\n",
       "\n",
       "[400 rows x 7 columns]"
      ]
     },
     "execution_count": 27,
     "metadata": {},
     "output_type": "execute_result"
    }
   ],
   "source": [
    "x"
   ]
  },
  {
   "cell_type": "code",
   "execution_count": 28,
   "id": "69ca7317-7832-4545-82d7-f3b6acdfb439",
   "metadata": {},
   "outputs": [],
   "source": [
    "y=df.loc[:,\"Chance of Admit \"]"
   ]
  },
  {
   "cell_type": "code",
   "execution_count": 29,
   "id": "c329604e-cba9-40a9-a6c9-ec293fa5ce18",
   "metadata": {},
   "outputs": [
    {
     "data": {
      "text/plain": [
       "0      1\n",
       "1      1\n",
       "2      0\n",
       "3      1\n",
       "4      0\n",
       "      ..\n",
       "395    1\n",
       "396    1\n",
       "397    1\n",
       "398    0\n",
       "399    1\n",
       "Name: Chance of Admit , Length: 400, dtype: int64"
      ]
     },
     "execution_count": 29,
     "metadata": {},
     "output_type": "execute_result"
    }
   ],
   "source": [
    "y"
   ]
  },
  {
   "cell_type": "code",
   "execution_count": 30,
   "id": "ba853710-8abf-4ad3-a4b8-7e2a8228c699",
   "metadata": {},
   "outputs": [],
   "source": [
    "from sklearn.preprocessing import MinMaxScaler"
   ]
  },
  {
   "cell_type": "code",
   "execution_count": 31,
   "id": "11f338c7-7cfb-48a8-9078-1f82a3d28576",
   "metadata": {},
   "outputs": [],
   "source": [
    "ss=MinMaxScaler()"
   ]
  },
  {
   "cell_type": "code",
   "execution_count": 32,
   "id": "8050d6f4-1039-45cc-9feb-66acd4ea3466",
   "metadata": {},
   "outputs": [],
   "source": [
    "x=ss.fit_transform(x)"
   ]
  },
  {
   "cell_type": "code",
   "execution_count": 33,
   "id": "78cc0008-6188-478d-a9e5-f876710d3a83",
   "metadata": {},
   "outputs": [
    {
     "data": {
      "text/plain": [
       "array([[0.94      , 0.92857143, 0.75      , ..., 0.875     , 0.91346154,\n",
       "        1.        ],\n",
       "       [0.68      , 0.53571429, 0.75      , ..., 0.875     , 0.66346154,\n",
       "        1.        ],\n",
       "       [0.52      , 0.42857143, 0.5       , ..., 0.625     , 0.38461538,\n",
       "        1.        ],\n",
       "       ...,\n",
       "       [0.8       , 0.85714286, 0.75      , ..., 0.875     , 0.84935897,\n",
       "        1.        ],\n",
       "       [0.44      , 0.39285714, 0.5       , ..., 0.75      , 0.63461538,\n",
       "        0.        ],\n",
       "       [0.86      , 0.89285714, 0.75      , ..., 0.75      , 0.91666667,\n",
       "        1.        ]])"
      ]
     },
     "execution_count": 33,
     "metadata": {},
     "output_type": "execute_result"
    }
   ],
   "source": [
    "x"
   ]
  },
  {
   "cell_type": "code",
   "execution_count": 34,
   "id": "711b5388-e28f-4245-aaec-c98e655afd08",
   "metadata": {},
   "outputs": [
    {
     "data": {
      "text/plain": [
       "0      1\n",
       "1      1\n",
       "2      0\n",
       "3      1\n",
       "4      0\n",
       "      ..\n",
       "395    1\n",
       "396    1\n",
       "397    1\n",
       "398    0\n",
       "399    1\n",
       "Name: Chance of Admit , Length: 400, dtype: int64"
      ]
     },
     "execution_count": 34,
     "metadata": {},
     "output_type": "execute_result"
    }
   ],
   "source": [
    "y"
   ]
  },
  {
   "cell_type": "code",
   "execution_count": 35,
   "id": "c9bbce89-70eb-414c-a301-e4a31cefc4ba",
   "metadata": {},
   "outputs": [],
   "source": [
    "from sklearn.ensemble import ExtraTreesClassifier"
   ]
  },
  {
   "cell_type": "code",
   "execution_count": 36,
   "id": "a5ff465b-76d7-4ea4-9ce4-fce0dcf44948",
   "metadata": {},
   "outputs": [],
   "source": [
    "etc=ExtraTreesClassifier()"
   ]
  },
  {
   "cell_type": "code",
   "execution_count": 37,
   "id": "0fc90ff3-fc30-484d-ad4c-5fa997b41dbd",
   "metadata": {},
   "outputs": [
    {
     "data": {
      "text/html": [
       "<style>#sk-container-id-1 {\n",
       "  /* Definition of color scheme common for light and dark mode */\n",
       "  --sklearn-color-text: black;\n",
       "  --sklearn-color-line: gray;\n",
       "  /* Definition of color scheme for unfitted estimators */\n",
       "  --sklearn-color-unfitted-level-0: #fff5e6;\n",
       "  --sklearn-color-unfitted-level-1: #f6e4d2;\n",
       "  --sklearn-color-unfitted-level-2: #ffe0b3;\n",
       "  --sklearn-color-unfitted-level-3: chocolate;\n",
       "  /* Definition of color scheme for fitted estimators */\n",
       "  --sklearn-color-fitted-level-0: #f0f8ff;\n",
       "  --sklearn-color-fitted-level-1: #d4ebff;\n",
       "  --sklearn-color-fitted-level-2: #b3dbfd;\n",
       "  --sklearn-color-fitted-level-3: cornflowerblue;\n",
       "\n",
       "  /* Specific color for light theme */\n",
       "  --sklearn-color-text-on-default-background: var(--sg-text-color, var(--theme-code-foreground, var(--jp-content-font-color1, black)));\n",
       "  --sklearn-color-background: var(--sg-background-color, var(--theme-background, var(--jp-layout-color0, white)));\n",
       "  --sklearn-color-border-box: var(--sg-text-color, var(--theme-code-foreground, var(--jp-content-font-color1, black)));\n",
       "  --sklearn-color-icon: #696969;\n",
       "\n",
       "  @media (prefers-color-scheme: dark) {\n",
       "    /* Redefinition of color scheme for dark theme */\n",
       "    --sklearn-color-text-on-default-background: var(--sg-text-color, var(--theme-code-foreground, var(--jp-content-font-color1, white)));\n",
       "    --sklearn-color-background: var(--sg-background-color, var(--theme-background, var(--jp-layout-color0, #111)));\n",
       "    --sklearn-color-border-box: var(--sg-text-color, var(--theme-code-foreground, var(--jp-content-font-color1, white)));\n",
       "    --sklearn-color-icon: #878787;\n",
       "  }\n",
       "}\n",
       "\n",
       "#sk-container-id-1 {\n",
       "  color: var(--sklearn-color-text);\n",
       "}\n",
       "\n",
       "#sk-container-id-1 pre {\n",
       "  padding: 0;\n",
       "}\n",
       "\n",
       "#sk-container-id-1 input.sk-hidden--visually {\n",
       "  border: 0;\n",
       "  clip: rect(1px 1px 1px 1px);\n",
       "  clip: rect(1px, 1px, 1px, 1px);\n",
       "  height: 1px;\n",
       "  margin: -1px;\n",
       "  overflow: hidden;\n",
       "  padding: 0;\n",
       "  position: absolute;\n",
       "  width: 1px;\n",
       "}\n",
       "\n",
       "#sk-container-id-1 div.sk-dashed-wrapped {\n",
       "  border: 1px dashed var(--sklearn-color-line);\n",
       "  margin: 0 0.4em 0.5em 0.4em;\n",
       "  box-sizing: border-box;\n",
       "  padding-bottom: 0.4em;\n",
       "  background-color: var(--sklearn-color-background);\n",
       "}\n",
       "\n",
       "#sk-container-id-1 div.sk-container {\n",
       "  /* jupyter's `normalize.less` sets `[hidden] { display: none; }`\n",
       "     but bootstrap.min.css set `[hidden] { display: none !important; }`\n",
       "     so we also need the `!important` here to be able to override the\n",
       "     default hidden behavior on the sphinx rendered scikit-learn.org.\n",
       "     See: https://github.com/scikit-learn/scikit-learn/issues/21755 */\n",
       "  display: inline-block !important;\n",
       "  position: relative;\n",
       "}\n",
       "\n",
       "#sk-container-id-1 div.sk-text-repr-fallback {\n",
       "  display: none;\n",
       "}\n",
       "\n",
       "div.sk-parallel-item,\n",
       "div.sk-serial,\n",
       "div.sk-item {\n",
       "  /* draw centered vertical line to link estimators */\n",
       "  background-image: linear-gradient(var(--sklearn-color-text-on-default-background), var(--sklearn-color-text-on-default-background));\n",
       "  background-size: 2px 100%;\n",
       "  background-repeat: no-repeat;\n",
       "  background-position: center center;\n",
       "}\n",
       "\n",
       "/* Parallel-specific style estimator block */\n",
       "\n",
       "#sk-container-id-1 div.sk-parallel-item::after {\n",
       "  content: \"\";\n",
       "  width: 100%;\n",
       "  border-bottom: 2px solid var(--sklearn-color-text-on-default-background);\n",
       "  flex-grow: 1;\n",
       "}\n",
       "\n",
       "#sk-container-id-1 div.sk-parallel {\n",
       "  display: flex;\n",
       "  align-items: stretch;\n",
       "  justify-content: center;\n",
       "  background-color: var(--sklearn-color-background);\n",
       "  position: relative;\n",
       "}\n",
       "\n",
       "#sk-container-id-1 div.sk-parallel-item {\n",
       "  display: flex;\n",
       "  flex-direction: column;\n",
       "}\n",
       "\n",
       "#sk-container-id-1 div.sk-parallel-item:first-child::after {\n",
       "  align-self: flex-end;\n",
       "  width: 50%;\n",
       "}\n",
       "\n",
       "#sk-container-id-1 div.sk-parallel-item:last-child::after {\n",
       "  align-self: flex-start;\n",
       "  width: 50%;\n",
       "}\n",
       "\n",
       "#sk-container-id-1 div.sk-parallel-item:only-child::after {\n",
       "  width: 0;\n",
       "}\n",
       "\n",
       "/* Serial-specific style estimator block */\n",
       "\n",
       "#sk-container-id-1 div.sk-serial {\n",
       "  display: flex;\n",
       "  flex-direction: column;\n",
       "  align-items: center;\n",
       "  background-color: var(--sklearn-color-background);\n",
       "  padding-right: 1em;\n",
       "  padding-left: 1em;\n",
       "}\n",
       "\n",
       "\n",
       "/* Toggleable style: style used for estimator/Pipeline/ColumnTransformer box that is\n",
       "clickable and can be expanded/collapsed.\n",
       "- Pipeline and ColumnTransformer use this feature and define the default style\n",
       "- Estimators will overwrite some part of the style using the `sk-estimator` class\n",
       "*/\n",
       "\n",
       "/* Pipeline and ColumnTransformer style (default) */\n",
       "\n",
       "#sk-container-id-1 div.sk-toggleable {\n",
       "  /* Default theme specific background. It is overwritten whether we have a\n",
       "  specific estimator or a Pipeline/ColumnTransformer */\n",
       "  background-color: var(--sklearn-color-background);\n",
       "}\n",
       "\n",
       "/* Toggleable label */\n",
       "#sk-container-id-1 label.sk-toggleable__label {\n",
       "  cursor: pointer;\n",
       "  display: block;\n",
       "  width: 100%;\n",
       "  margin-bottom: 0;\n",
       "  padding: 0.5em;\n",
       "  box-sizing: border-box;\n",
       "  text-align: center;\n",
       "}\n",
       "\n",
       "#sk-container-id-1 label.sk-toggleable__label-arrow:before {\n",
       "  /* Arrow on the left of the label */\n",
       "  content: \"▸\";\n",
       "  float: left;\n",
       "  margin-right: 0.25em;\n",
       "  color: var(--sklearn-color-icon);\n",
       "}\n",
       "\n",
       "#sk-container-id-1 label.sk-toggleable__label-arrow:hover:before {\n",
       "  color: var(--sklearn-color-text);\n",
       "}\n",
       "\n",
       "/* Toggleable content - dropdown */\n",
       "\n",
       "#sk-container-id-1 div.sk-toggleable__content {\n",
       "  max-height: 0;\n",
       "  max-width: 0;\n",
       "  overflow: hidden;\n",
       "  text-align: left;\n",
       "  /* unfitted */\n",
       "  background-color: var(--sklearn-color-unfitted-level-0);\n",
       "}\n",
       "\n",
       "#sk-container-id-1 div.sk-toggleable__content.fitted {\n",
       "  /* fitted */\n",
       "  background-color: var(--sklearn-color-fitted-level-0);\n",
       "}\n",
       "\n",
       "#sk-container-id-1 div.sk-toggleable__content pre {\n",
       "  margin: 0.2em;\n",
       "  border-radius: 0.25em;\n",
       "  color: var(--sklearn-color-text);\n",
       "  /* unfitted */\n",
       "  background-color: var(--sklearn-color-unfitted-level-0);\n",
       "}\n",
       "\n",
       "#sk-container-id-1 div.sk-toggleable__content.fitted pre {\n",
       "  /* unfitted */\n",
       "  background-color: var(--sklearn-color-fitted-level-0);\n",
       "}\n",
       "\n",
       "#sk-container-id-1 input.sk-toggleable__control:checked~div.sk-toggleable__content {\n",
       "  /* Expand drop-down */\n",
       "  max-height: 200px;\n",
       "  max-width: 100%;\n",
       "  overflow: auto;\n",
       "}\n",
       "\n",
       "#sk-container-id-1 input.sk-toggleable__control:checked~label.sk-toggleable__label-arrow:before {\n",
       "  content: \"▾\";\n",
       "}\n",
       "\n",
       "/* Pipeline/ColumnTransformer-specific style */\n",
       "\n",
       "#sk-container-id-1 div.sk-label input.sk-toggleable__control:checked~label.sk-toggleable__label {\n",
       "  color: var(--sklearn-color-text);\n",
       "  background-color: var(--sklearn-color-unfitted-level-2);\n",
       "}\n",
       "\n",
       "#sk-container-id-1 div.sk-label.fitted input.sk-toggleable__control:checked~label.sk-toggleable__label {\n",
       "  background-color: var(--sklearn-color-fitted-level-2);\n",
       "}\n",
       "\n",
       "/* Estimator-specific style */\n",
       "\n",
       "/* Colorize estimator box */\n",
       "#sk-container-id-1 div.sk-estimator input.sk-toggleable__control:checked~label.sk-toggleable__label {\n",
       "  /* unfitted */\n",
       "  background-color: var(--sklearn-color-unfitted-level-2);\n",
       "}\n",
       "\n",
       "#sk-container-id-1 div.sk-estimator.fitted input.sk-toggleable__control:checked~label.sk-toggleable__label {\n",
       "  /* fitted */\n",
       "  background-color: var(--sklearn-color-fitted-level-2);\n",
       "}\n",
       "\n",
       "#sk-container-id-1 div.sk-label label.sk-toggleable__label,\n",
       "#sk-container-id-1 div.sk-label label {\n",
       "  /* The background is the default theme color */\n",
       "  color: var(--sklearn-color-text-on-default-background);\n",
       "}\n",
       "\n",
       "/* On hover, darken the color of the background */\n",
       "#sk-container-id-1 div.sk-label:hover label.sk-toggleable__label {\n",
       "  color: var(--sklearn-color-text);\n",
       "  background-color: var(--sklearn-color-unfitted-level-2);\n",
       "}\n",
       "\n",
       "/* Label box, darken color on hover, fitted */\n",
       "#sk-container-id-1 div.sk-label.fitted:hover label.sk-toggleable__label.fitted {\n",
       "  color: var(--sklearn-color-text);\n",
       "  background-color: var(--sklearn-color-fitted-level-2);\n",
       "}\n",
       "\n",
       "/* Estimator label */\n",
       "\n",
       "#sk-container-id-1 div.sk-label label {\n",
       "  font-family: monospace;\n",
       "  font-weight: bold;\n",
       "  display: inline-block;\n",
       "  line-height: 1.2em;\n",
       "}\n",
       "\n",
       "#sk-container-id-1 div.sk-label-container {\n",
       "  text-align: center;\n",
       "}\n",
       "\n",
       "/* Estimator-specific */\n",
       "#sk-container-id-1 div.sk-estimator {\n",
       "  font-family: monospace;\n",
       "  border: 1px dotted var(--sklearn-color-border-box);\n",
       "  border-radius: 0.25em;\n",
       "  box-sizing: border-box;\n",
       "  margin-bottom: 0.5em;\n",
       "  /* unfitted */\n",
       "  background-color: var(--sklearn-color-unfitted-level-0);\n",
       "}\n",
       "\n",
       "#sk-container-id-1 div.sk-estimator.fitted {\n",
       "  /* fitted */\n",
       "  background-color: var(--sklearn-color-fitted-level-0);\n",
       "}\n",
       "\n",
       "/* on hover */\n",
       "#sk-container-id-1 div.sk-estimator:hover {\n",
       "  /* unfitted */\n",
       "  background-color: var(--sklearn-color-unfitted-level-2);\n",
       "}\n",
       "\n",
       "#sk-container-id-1 div.sk-estimator.fitted:hover {\n",
       "  /* fitted */\n",
       "  background-color: var(--sklearn-color-fitted-level-2);\n",
       "}\n",
       "\n",
       "/* Specification for estimator info (e.g. \"i\" and \"?\") */\n",
       "\n",
       "/* Common style for \"i\" and \"?\" */\n",
       "\n",
       ".sk-estimator-doc-link,\n",
       "a:link.sk-estimator-doc-link,\n",
       "a:visited.sk-estimator-doc-link {\n",
       "  float: right;\n",
       "  font-size: smaller;\n",
       "  line-height: 1em;\n",
       "  font-family: monospace;\n",
       "  background-color: var(--sklearn-color-background);\n",
       "  border-radius: 1em;\n",
       "  height: 1em;\n",
       "  width: 1em;\n",
       "  text-decoration: none !important;\n",
       "  margin-left: 1ex;\n",
       "  /* unfitted */\n",
       "  border: var(--sklearn-color-unfitted-level-1) 1pt solid;\n",
       "  color: var(--sklearn-color-unfitted-level-1);\n",
       "}\n",
       "\n",
       ".sk-estimator-doc-link.fitted,\n",
       "a:link.sk-estimator-doc-link.fitted,\n",
       "a:visited.sk-estimator-doc-link.fitted {\n",
       "  /* fitted */\n",
       "  border: var(--sklearn-color-fitted-level-1) 1pt solid;\n",
       "  color: var(--sklearn-color-fitted-level-1);\n",
       "}\n",
       "\n",
       "/* On hover */\n",
       "div.sk-estimator:hover .sk-estimator-doc-link:hover,\n",
       ".sk-estimator-doc-link:hover,\n",
       "div.sk-label-container:hover .sk-estimator-doc-link:hover,\n",
       ".sk-estimator-doc-link:hover {\n",
       "  /* unfitted */\n",
       "  background-color: var(--sklearn-color-unfitted-level-3);\n",
       "  color: var(--sklearn-color-background);\n",
       "  text-decoration: none;\n",
       "}\n",
       "\n",
       "div.sk-estimator.fitted:hover .sk-estimator-doc-link.fitted:hover,\n",
       ".sk-estimator-doc-link.fitted:hover,\n",
       "div.sk-label-container:hover .sk-estimator-doc-link.fitted:hover,\n",
       ".sk-estimator-doc-link.fitted:hover {\n",
       "  /* fitted */\n",
       "  background-color: var(--sklearn-color-fitted-level-3);\n",
       "  color: var(--sklearn-color-background);\n",
       "  text-decoration: none;\n",
       "}\n",
       "\n",
       "/* Span, style for the box shown on hovering the info icon */\n",
       ".sk-estimator-doc-link span {\n",
       "  display: none;\n",
       "  z-index: 9999;\n",
       "  position: relative;\n",
       "  font-weight: normal;\n",
       "  right: .2ex;\n",
       "  padding: .5ex;\n",
       "  margin: .5ex;\n",
       "  width: min-content;\n",
       "  min-width: 20ex;\n",
       "  max-width: 50ex;\n",
       "  color: var(--sklearn-color-text);\n",
       "  box-shadow: 2pt 2pt 4pt #999;\n",
       "  /* unfitted */\n",
       "  background: var(--sklearn-color-unfitted-level-0);\n",
       "  border: .5pt solid var(--sklearn-color-unfitted-level-3);\n",
       "}\n",
       "\n",
       ".sk-estimator-doc-link.fitted span {\n",
       "  /* fitted */\n",
       "  background: var(--sklearn-color-fitted-level-0);\n",
       "  border: var(--sklearn-color-fitted-level-3);\n",
       "}\n",
       "\n",
       ".sk-estimator-doc-link:hover span {\n",
       "  display: block;\n",
       "}\n",
       "\n",
       "/* \"?\"-specific style due to the `<a>` HTML tag */\n",
       "\n",
       "#sk-container-id-1 a.estimator_doc_link {\n",
       "  float: right;\n",
       "  font-size: 1rem;\n",
       "  line-height: 1em;\n",
       "  font-family: monospace;\n",
       "  background-color: var(--sklearn-color-background);\n",
       "  border-radius: 1rem;\n",
       "  height: 1rem;\n",
       "  width: 1rem;\n",
       "  text-decoration: none;\n",
       "  /* unfitted */\n",
       "  color: var(--sklearn-color-unfitted-level-1);\n",
       "  border: var(--sklearn-color-unfitted-level-1) 1pt solid;\n",
       "}\n",
       "\n",
       "#sk-container-id-1 a.estimator_doc_link.fitted {\n",
       "  /* fitted */\n",
       "  border: var(--sklearn-color-fitted-level-1) 1pt solid;\n",
       "  color: var(--sklearn-color-fitted-level-1);\n",
       "}\n",
       "\n",
       "/* On hover */\n",
       "#sk-container-id-1 a.estimator_doc_link:hover {\n",
       "  /* unfitted */\n",
       "  background-color: var(--sklearn-color-unfitted-level-3);\n",
       "  color: var(--sklearn-color-background);\n",
       "  text-decoration: none;\n",
       "}\n",
       "\n",
       "#sk-container-id-1 a.estimator_doc_link.fitted:hover {\n",
       "  /* fitted */\n",
       "  background-color: var(--sklearn-color-fitted-level-3);\n",
       "}\n",
       "</style><div id=\"sk-container-id-1\" class=\"sk-top-container\"><div class=\"sk-text-repr-fallback\"><pre>ExtraTreesClassifier()</pre><b>In a Jupyter environment, please rerun this cell to show the HTML representation or trust the notebook. <br />On GitHub, the HTML representation is unable to render, please try loading this page with nbviewer.org.</b></div><div class=\"sk-container\" hidden><div class=\"sk-item\"><div class=\"sk-estimator fitted sk-toggleable\"><input class=\"sk-toggleable__control sk-hidden--visually\" id=\"sk-estimator-id-1\" type=\"checkbox\" checked><label for=\"sk-estimator-id-1\" class=\"sk-toggleable__label fitted sk-toggleable__label-arrow fitted\">&nbsp;&nbsp;ExtraTreesClassifier<a class=\"sk-estimator-doc-link fitted\" rel=\"noreferrer\" target=\"_blank\" href=\"https://scikit-learn.org/1.4/modules/generated/sklearn.ensemble.ExtraTreesClassifier.html\">?<span>Documentation for ExtraTreesClassifier</span></a><span class=\"sk-estimator-doc-link fitted\">i<span>Fitted</span></span></label><div class=\"sk-toggleable__content fitted\"><pre>ExtraTreesClassifier()</pre></div> </div></div></div></div>"
      ],
      "text/plain": [
       "ExtraTreesClassifier()"
      ]
     },
     "execution_count": 37,
     "metadata": {},
     "output_type": "execute_result"
    }
   ],
   "source": [
    "etc.fit(x,y)"
   ]
  },
  {
   "cell_type": "code",
   "execution_count": 38,
   "id": "0cbaf217-a5c8-428e-beb6-e41e24251f3f",
   "metadata": {},
   "outputs": [],
   "source": [
    "cols=['GRE Score', 'TOEFL Score', 'University Rating', 'SOP', 'LOR', 'CGPA', 'Research']\n",
    "features_imp=pd.Series(etc.feature_importances_,index=cols)"
   ]
  },
  {
   "cell_type": "code",
   "execution_count": 39,
   "id": "b8ac0dba-7277-4646-b3c7-81da7fd58adf",
   "metadata": {},
   "outputs": [
    {
     "data": {
      "text/plain": [
       "GRE Score            0.158454\n",
       "TOEFL Score          0.150123\n",
       "University Rating    0.109745\n",
       "SOP                  0.105595\n",
       "LOR                  0.095805\n",
       "CGPA                 0.263158\n",
       "Research             0.117120\n",
       "dtype: float64"
      ]
     },
     "execution_count": 39,
     "metadata": {},
     "output_type": "execute_result"
    }
   ],
   "source": [
    "features_imp"
   ]
  },
  {
   "cell_type": "code",
   "execution_count": 40,
   "id": "a58526b2-2197-4f8f-af76-dce531738793",
   "metadata": {},
   "outputs": [
    {
     "data": {
      "text/plain": [
       "<Axes: >"
      ]
     },
     "execution_count": 40,
     "metadata": {},
     "output_type": "execute_result"
    },
    {
     "data": {
      "image/png": "[encoded data removed]",
      "text/plain": [
       "<Figure size 640x480 with 1 Axes>"
      ]
     },
     "metadata": {},
     "output_type": "display_data"
    }
   ],
   "source": [
    "features_imp.sort_values().plot(kind=\"bar\")"
   ]
  },
  {
   "cell_type": "code",
   "execution_count": 41,
   "id": "50bc21f5-a483-413a-ae88-e052334dde34",
   "metadata": {},
   "outputs": [
    {
     "data": {
      "text/plain": [
       "9.92"
      ]
     },
     "execution_count": 41,
     "metadata": {},
     "output_type": "execute_result"
    }
   ],
   "source": [
    "admit[\"CGPA\"].max()"
   ]
  },
  {
   "cell_type": "code",
   "execution_count": 42,
   "id": "ba9b846b-9937-4c72-9dcb-5a25ce94816a",
   "metadata": {},
   "outputs": [
    {
     "data": {
      "text/plain": [
       "8.0"
      ]
     },
     "execution_count": 42,
     "metadata": {},
     "output_type": "execute_result"
    }
   ],
   "source": [
    "admit[\"CGPA\"].min()\n",
    "\n"
   ]
  },
  {
   "cell_type": "code",
   "execution_count": 43,
   "id": "a46a7b76-99ab-4ec7-9c9d-31444cfd5b7c",
   "metadata": {},
   "outputs": [
    {
     "data": {
      "text/plain": [
       "9.084388888888888"
      ]
     },
     "execution_count": 43,
     "metadata": {},
     "output_type": "execute_result"
    }
   ],
   "source": [
    "admit[\"CGPA\"].mean()"
   ]
  },
  {
   "cell_type": "markdown",
   "id": "757b3196-2c96-4fc5-bc20-2538326d6327",
   "metadata": {},
   "source": [
    "#### Scoring feature Selection"
   ]
  },
  {
   "cell_type": "code",
   "execution_count": 44,
   "id": "c2d38c12-2fc9-4594-9f07-d3c6c1e16b30",
   "metadata": {},
   "outputs": [],
   "source": [
    "from sklearn.feature_selection import SelectKBest"
   ]
  },
  {
   "cell_type": "code",
   "execution_count": 45,
   "id": "876b314d-2819-4403-a64b-47aa8f73ff34",
   "metadata": {},
   "outputs": [],
   "source": [
    "from sklearn.feature_selection import chi2"
   ]
  },
  {
   "cell_type": "code",
   "execution_count": 46,
   "id": "616c234f-6bff-41ef-858b-42c6d1be2d32",
   "metadata": {},
   "outputs": [],
   "source": [
    "bestfeatures = SelectKBest(score_func=chi2, k =7).fit(x, y)"
   ]
  },
  {
   "cell_type": "code",
   "execution_count": 47,
   "id": "f46ff814-15f6-43e2-aa06-4c9393f840f3",
   "metadata": {},
   "outputs": [
    {
     "data": {
      "text/plain": [
       "array([18.44900274, 15.40494029, 25.52175951, 15.78940446, 10.20418507,\n",
       "       13.74219242, 48.83727688])"
      ]
     },
     "execution_count": 47,
     "metadata": {},
     "output_type": "execute_result"
    }
   ],
   "source": [
    "bestfeatures.scores_"
   ]
  },
  {
   "cell_type": "code",
   "execution_count": 48,
   "id": "7e35a307-d769-416b-a361-1673026cec11",
   "metadata": {},
   "outputs": [],
   "source": [
    "cols=['GRE Score', 'TOEFL Score', 'University Rating', 'SOP', 'LOR', 'CGPA', 'Research']\n",
    "bestfeature=pd.Series(bestfeatures.scores_,index=cols)"
   ]
  },
  {
   "cell_type": "code",
   "execution_count": 49,
   "id": "1287e823-a37a-4485-bd70-1ffdb4bcba46",
   "metadata": {},
   "outputs": [
    {
     "data": {
      "text/plain": [
       "GRE Score            18.449003\n",
       "TOEFL Score          15.404940\n",
       "University Rating    25.521760\n",
       "SOP                  15.789404\n",
       "LOR                  10.204185\n",
       "CGPA                 13.742192\n",
       "Research             48.837277\n",
       "dtype: float64"
      ]
     },
     "execution_count": 49,
     "metadata": {},
     "output_type": "execute_result"
    }
   ],
   "source": [
    "bestfeature"
   ]
  },
  {
   "cell_type": "code",
   "execution_count": 50,
   "id": "6a3e2aec-07c4-469e-b1d8-abce3303daed",
   "metadata": {},
   "outputs": [
    {
     "data": {
      "text/plain": [
       "<Axes: >"
      ]
     },
     "execution_count": 50,
     "metadata": {},
     "output_type": "execute_result"
    },
    {
     "data": {
      "image/png": "[encoded data removed]",
      "text/plain": [
       "<Figure size 640x480 with 1 Axes>"
      ]
     },
     "metadata": {},
     "output_type": "display_data"
    }
   ],
   "source": [
    "bestfeature.sort_values().plot(kind=\"bar\")"
   ]
  },
  {
   "cell_type": "markdown",
   "id": "e8d78a37-f141-46dd-a3f8-0f43c95d2cda",
   "metadata": {},
   "source": [
    "#### Recursive Feature Elimination"
   ]
  },
  {
   "cell_type": "code",
   "execution_count": 51,
   "id": "49d0f650-9f04-4943-bbb8-92495a88d5b9",
   "metadata": {},
   "outputs": [],
   "source": [
    "from sklearn.feature_selection import RFE"
   ]
  },
  {
   "cell_type": "code",
   "execution_count": 52,
   "id": "a8f8e6f6-5ff3-44dc-803c-3e43548ecd64",
   "metadata": {},
   "outputs": [],
   "source": [
    "from sklearn.linear_model import LogisticRegression"
   ]
  },
  {
   "cell_type": "code",
   "execution_count": 53,
   "id": "dd76c212-b765-449e-9026-570d89ba7a4a",
   "metadata": {},
   "outputs": [],
   "source": [
    "model = LogisticRegression()\n",
    "\n",
    "# Initialize RFE and fit the model\n",
    "rfe = RFE(model, n_features_to_select=1)  # Select 1 feature at a time\n",
    "rfe.fit(x, y)\n",
    "\n",
    "# Get the feature rankings\n",
    "feature_rankings = rfe.ranking_\n",
    "\n"
   ]
  },
  {
   "cell_type": "code",
   "execution_count": 54,
   "id": "aa911c09-3a54-4be6-a327-8b7cd79e3f3b",
   "metadata": {},
   "outputs": [
    {
     "data": {
      "text/plain": [
       "array([2, 4, 5, 3, 6, 1, 7])"
      ]
     },
     "execution_count": 54,
     "metadata": {},
     "output_type": "execute_result"
    }
   ],
   "source": [
    "feature_rankings"
   ]
  },
  {
   "cell_type": "code",
   "execution_count": 55,
   "id": "e0265aa5-d9e3-4b08-9cb9-2c7fecf6ba26",
   "metadata": {},
   "outputs": [
    {
     "name": "stdout",
     "output_type": "stream",
     "text": [
      "GRE Score: Rank 2\n",
      "TOEFL Score: Rank 4\n",
      "University Rating: Rank 5\n",
      "SOP: Rank 3\n",
      "LOR: Rank 6\n",
      "CGPA: Rank 1\n",
      "Research: Rank 7\n"
     ]
    }
   ],
   "source": [
    "col_rankings = {cols: rank for cols, rank in zip(cols, feature_rankings)}\n",
    "\n",
    "# Print the column names along with their rankings\n",
    "for col in cols:\n",
    "    print(f\"{col}: Rank {col_rankings[col]}\")"
   ]
  },
  {
   "cell_type": "code",
   "execution_count": 56,
   "id": "0c6ec02f-09dd-4225-9050-1344c04163ff",
   "metadata": {},
   "outputs": [],
   "source": [
    "sorted_cols = [col for _, col in sorted(zip(feature_rankings, cols))]\n",
    "import numpy as np\n",
    "# Sort the rankings accordingly\n",
    "sorted_rankings = np.sort(feature_rankings)"
   ]
  },
  {
   "cell_type": "code",
   "execution_count": 57,
   "id": "3cc91443-cf5b-4e88-9c34-1bdd57cf888c",
   "metadata": {},
   "outputs": [
    {
     "data": {
      "text/plain": [
       "<BarContainer object of 7 artists>"
      ]
     },
     "execution_count": 57,
     "metadata": {},
     "output_type": "execute_result"
    },
    {
     "data": {
      "image/png": "[encoded data removed]",
      "text/plain": [
       "<Figure size 1000x600 with 1 Axes>"
      ]
     },
     "metadata": {},
     "output_type": "display_data"
    }
   ],
   "source": [
    "plt.figure(figsize=(10, 6))\n",
    "plt.bar(sorted_cols, sorted_rankings, color='skyblue')"
   ]
  },
  {
   "cell_type": "markdown",
   "id": "8eac8c79-ee97-4377-a527-2ce593b223a7",
   "metadata": {},
   "source": [
    "## ANN"
   ]
  },
  {
   "cell_type": "code",
   "execution_count": 58,
   "id": "85882e09-a171-4fe2-9ee6-bef354253027",
   "metadata": {},
   "outputs": [],
   "source": [
    "import keras"
   ]
  },
  {
   "cell_type": "code",
   "execution_count": 59,
   "id": "5a970647-4adb-44df-8dfa-740159dbfb1e",
   "metadata": {},
   "outputs": [],
   "source": [
    "from keras.models import Sequential"
   ]
  },
  {
   "cell_type": "code",
   "execution_count": 60,
   "id": "a830c596-0285-4379-9a43-aa8d936c4d2d",
   "metadata": {},
   "outputs": [],
   "source": [
    "from keras.layers import Dense\n",
    "from tensorflow.keras import layers"
   ]
  },
  {
   "cell_type": "code",
   "execution_count": 61,
   "id": "2da5b48b-3a1a-4212-acbc-9ce1425aa939",
   "metadata": {},
   "outputs": [
    {
     "name": "stderr",
     "output_type": "stream",
     "text": [
      "C:\\Users\\tanta\\AppData\\Local\\Temp\\ipykernel_3144\\2204595460.py:2: DeprecationWarning: `import kerastuner` is deprecated, please use `import keras_tuner`.\n",
      "  from kerastuner.tuners import RandomSearch\n"
     ]
    }
   ],
   "source": [
    "from keras.layers import LeakyReLU,PReLU,ELU\n",
    "from kerastuner.tuners import RandomSearch"
   ]
  },
  {
   "cell_type": "code",
   "execution_count": 62,
   "id": "5cd46ff5-d153-449d-a1b1-6337bc10644c",
   "metadata": {},
   "outputs": [],
   "source": [
    "x2=df.loc[:,\"GRE Score\":\"Research\"]\n",
    "y2=df.loc[:,\"Chance of Admit \"] ## dependent features"
   ]
  },
  {
   "cell_type": "code",
   "execution_count": 63,
   "id": "622f4686-f60c-421b-ab97-ccec3f44bbe0",
   "metadata": {},
   "outputs": [
    {
     "data": {
      "text/html": [
       "<div>\n",
       "<style scoped>\n",
       "    .dataframe tbody tr th:only-of-type {\n",
       "        vertical-align: middle;\n",
       "    }\n",
       "\n",
       "    .dataframe tbody tr th {\n",
       "        vertical-align: top;\n",
       "    }\n",
       "\n",
       "    .dataframe thead th {\n",
       "        text-align: right;\n",
       "    }\n",
       "</style>\n",
       "<table border=\"1\" class=\"dataframe\">\n",
       "  <thead>\n",
       "    <tr style=\"text-align: right;\">\n",
       "      <th></th>\n",
       "      <th>GRE Score</th>\n",
       "      <th>TOEFL Score</th>\n",
       "      <th>University Rating</th>\n",
       "      <th>SOP</th>\n",
       "      <th>LOR</th>\n",
       "      <th>CGPA</th>\n",
       "      <th>Research</th>\n",
       "    </tr>\n",
       "  </thead>\n",
       "  <tbody>\n",
       "    <tr>\n",
       "      <th>0</th>\n",
       "      <td>337</td>\n",
       "      <td>118</td>\n",
       "      <td>4</td>\n",
       "      <td>4.5</td>\n",
       "      <td>4.5</td>\n",
       "      <td>9.65</td>\n",
       "      <td>1</td>\n",
       "    </tr>\n",
       "    <tr>\n",
       "      <th>1</th>\n",
       "      <td>324</td>\n",
       "      <td>107</td>\n",
       "      <td>4</td>\n",
       "      <td>4.0</td>\n",
       "      <td>4.5</td>\n",
       "      <td>8.87</td>\n",
       "      <td>1</td>\n",
       "    </tr>\n",
       "    <tr>\n",
       "      <th>2</th>\n",
       "      <td>316</td>\n",
       "      <td>104</td>\n",
       "      <td>3</td>\n",
       "      <td>3.0</td>\n",
       "      <td>3.5</td>\n",
       "      <td>8.00</td>\n",
       "      <td>1</td>\n",
       "    </tr>\n",
       "    <tr>\n",
       "      <th>3</th>\n",
       "      <td>322</td>\n",
       "      <td>110</td>\n",
       "      <td>3</td>\n",
       "      <td>3.5</td>\n",
       "      <td>2.5</td>\n",
       "      <td>8.67</td>\n",
       "      <td>1</td>\n",
       "    </tr>\n",
       "    <tr>\n",
       "      <th>4</th>\n",
       "      <td>314</td>\n",
       "      <td>103</td>\n",
       "      <td>2</td>\n",
       "      <td>2.0</td>\n",
       "      <td>3.0</td>\n",
       "      <td>8.21</td>\n",
       "      <td>0</td>\n",
       "    </tr>\n",
       "    <tr>\n",
       "      <th>...</th>\n",
       "      <td>...</td>\n",
       "      <td>...</td>\n",
       "      <td>...</td>\n",
       "      <td>...</td>\n",
       "      <td>...</td>\n",
       "      <td>...</td>\n",
       "      <td>...</td>\n",
       "    </tr>\n",
       "    <tr>\n",
       "      <th>395</th>\n",
       "      <td>324</td>\n",
       "      <td>110</td>\n",
       "      <td>3</td>\n",
       "      <td>3.5</td>\n",
       "      <td>3.5</td>\n",
       "      <td>9.04</td>\n",
       "      <td>1</td>\n",
       "    </tr>\n",
       "    <tr>\n",
       "      <th>396</th>\n",
       "      <td>325</td>\n",
       "      <td>107</td>\n",
       "      <td>3</td>\n",
       "      <td>3.0</td>\n",
       "      <td>3.5</td>\n",
       "      <td>9.11</td>\n",
       "      <td>1</td>\n",
       "    </tr>\n",
       "    <tr>\n",
       "      <th>397</th>\n",
       "      <td>330</td>\n",
       "      <td>116</td>\n",
       "      <td>4</td>\n",
       "      <td>5.0</td>\n",
       "      <td>4.5</td>\n",
       "      <td>9.45</td>\n",
       "      <td>1</td>\n",
       "    </tr>\n",
       "    <tr>\n",
       "      <th>398</th>\n",
       "      <td>312</td>\n",
       "      <td>103</td>\n",
       "      <td>3</td>\n",
       "      <td>3.5</td>\n",
       "      <td>4.0</td>\n",
       "      <td>8.78</td>\n",
       "      <td>0</td>\n",
       "    </tr>\n",
       "    <tr>\n",
       "      <th>399</th>\n",
       "      <td>333</td>\n",
       "      <td>117</td>\n",
       "      <td>4</td>\n",
       "      <td>5.0</td>\n",
       "      <td>4.0</td>\n",
       "      <td>9.66</td>\n",
       "      <td>1</td>\n",
       "    </tr>\n",
       "  </tbody>\n",
       "</table>\n",
       "<p>400 rows × 7 columns</p>\n",
       "</div>"
      ],
      "text/plain": [
       "     GRE Score  TOEFL Score  University Rating  SOP  LOR   CGPA  Research\n",
       "0          337          118                  4  4.5   4.5  9.65         1\n",
       "1          324          107                  4  4.0   4.5  8.87         1\n",
       "2          316          104                  3  3.0   3.5  8.00         1\n",
       "3          322          110                  3  3.5   2.5  8.67         1\n",
       "4          314          103                  2  2.0   3.0  8.21         0\n",
       "..         ...          ...                ...  ...   ...   ...       ...\n",
       "395        324          110                  3  3.5   3.5  9.04         1\n",
       "396        325          107                  3  3.0   3.5  9.11         1\n",
       "397        330          116                  4  5.0   4.5  9.45         1\n",
       "398        312          103                  3  3.5   4.0  8.78         0\n",
       "399        333          117                  4  5.0   4.0  9.66         1\n",
       "\n",
       "[400 rows x 7 columns]"
      ]
     },
     "execution_count": 63,
     "metadata": {},
     "output_type": "execute_result"
    }
   ],
   "source": [
    "x2"
   ]
  },
  {
   "cell_type": "code",
   "execution_count": 64,
   "id": "09e5c2cc-f44f-418d-a27e-6c65c09db058",
   "metadata": {},
   "outputs": [
    {
     "data": {
      "text/plain": [
       "0      1\n",
       "1      1\n",
       "2      0\n",
       "3      1\n",
       "4      0\n",
       "      ..\n",
       "395    1\n",
       "396    1\n",
       "397    1\n",
       "398    0\n",
       "399    1\n",
       "Name: Chance of Admit , Length: 400, dtype: int64"
      ]
     },
     "execution_count": 64,
     "metadata": {},
     "output_type": "execute_result"
    }
   ],
   "source": [
    "y2"
   ]
  },
  {
   "cell_type": "code",
   "execution_count": 65,
   "id": "29573854-3539-4058-ae92-8d701aaf3120",
   "metadata": {},
   "outputs": [],
   "source": [
    "from sklearn.preprocessing import StandardScaler\n",
    "ss=StandardScaler()\n",
    "x2=ss.fit_transform(x2)"
   ]
  },
  {
   "cell_type": "code",
   "execution_count": 66,
   "id": "1d5393d5-32f1-434b-91da-cd98b8bbc21e",
   "metadata": {},
   "outputs": [],
   "source": [
    "def build_model(hp):\n",
    "    model = keras.Sequential()\n",
    "    for i in range(hp.Int('num_layers', 2, 20)):\n",
    "        model.add(layers.Dense(units=hp.Int('units_' + str(i),\n",
    "                                            min_value=32,\n",
    "                                            max_value=256,\n",
    "                                            ),\n",
    "                               activation='relu'))\n",
    "    model.add(layers.Dense(1, activation='sigmoid'))\n",
    "    model.compile(\n",
    "        optimizer=keras.optimizers.Adam(\n",
    "            hp.Choice('learning_rate', [1e-2, 1e-3, 1e-4])),\n",
    "        loss=\"binary_crossentropy\",\n",
    "        metrics=[['accuracy']])\n",
    "    return model"
   ]
  },
  {
   "cell_type": "code",
   "execution_count": 67,
   "id": "9a0a9721-ff29-4634-a98b-89712177133a",
   "metadata": {},
   "outputs": [
    {
     "name": "stdout",
     "output_type": "stream",
     "text": [
      "Reloading Tuner from project\\grevvvvvvvv\\tuner0.json\n"
     ]
    }
   ],
   "source": [
    "\n",
    "tuner = RandomSearch(\n",
    "    build_model,\n",
    "    objective='val_accuracy',\n",
    "    max_trials=5,\n",
    "    executions_per_trial=3,\n",
    "    directory='project',\n",
    "    project_name='grevvvvvvvv')"
   ]
  },
  {
   "cell_type": "code",
   "execution_count": 68,
   "id": "77edf8d8-e0ab-4a01-82a5-a8501a60b22c",
   "metadata": {},
   "outputs": [
    {
     "name": "stdout",
     "output_type": "stream",
     "text": [
      "Search space summary\n",
      "Default search space size: 17\n",
      "num_layers (Int)\n",
      "{'default': None, 'conditions': [], 'min_value': 2, 'max_value': 20, 'step': 1, 'sampling': 'linear'}\n",
      "units_0 (Int)\n",
      "{'default': None, 'conditions': [], 'min_value': 32, 'max_value': 256, 'step': 1, 'sampling': 'linear'}\n",
      "units_1 (Int)\n",
      "{'default': None, 'conditions': [], 'min_value': 32, 'max_value': 256, 'step': 1, 'sampling': 'linear'}\n",
      "learning_rate (Choice)\n",
      "{'default': 0.01, 'conditions': [], 'values': [0.01, 0.001, 0.0001], 'ordered': True}\n",
      "units_2 (Int)\n",
      "{'default': None, 'conditions': [], 'min_value': 32, 'max_value': 256, 'step': 1, 'sampling': 'linear'}\n",
      "units_3 (Int)\n",
      "{'default': None, 'conditions': [], 'min_value': 32, 'max_value': 256, 'step': 1, 'sampling': 'linear'}\n",
      "units_4 (Int)\n",
      "{'default': None, 'conditions': [], 'min_value': 32, 'max_value': 256, 'step': 1, 'sampling': 'linear'}\n",
      "units_5 (Int)\n",
      "{'default': None, 'conditions': [], 'min_value': 32, 'max_value': 256, 'step': 1, 'sampling': 'linear'}\n",
      "units_6 (Int)\n",
      "{'default': None, 'conditions': [], 'min_value': 32, 'max_value': 256, 'step': 1, 'sampling': 'linear'}\n",
      "units_7 (Int)\n",
      "{'default': None, 'conditions': [], 'min_value': 32, 'max_value': 256, 'step': 1, 'sampling': 'linear'}\n",
      "units_8 (Int)\n",
      "{'default': None, 'conditions': [], 'min_value': 32, 'max_value': 256, 'step': 1, 'sampling': 'linear'}\n",
      "units_9 (Int)\n",
      "{'default': None, 'conditions': [], 'min_value': 32, 'max_value': 256, 'step': 1, 'sampling': 'linear'}\n",
      "units_10 (Int)\n",
      "{'default': None, 'conditions': [], 'min_value': 32, 'max_value': 256, 'step': 1, 'sampling': 'linear'}\n",
      "units_11 (Int)\n",
      "{'default': None, 'conditions': [], 'min_value': 32, 'max_value': 256, 'step': 1, 'sampling': 'linear'}\n",
      "units_12 (Int)\n",
      "{'default': None, 'conditions': [], 'min_value': 32, 'max_value': 256, 'step': 1, 'sampling': 'linear'}\n",
      "units_13 (Int)\n",
      "{'default': None, 'conditions': [], 'min_value': 32, 'max_value': 256, 'step': 1, 'sampling': 'linear'}\n",
      "units_14 (Int)\n",
      "{'default': None, 'conditions': [], 'min_value': 32, 'max_value': 256, 'step': 1, 'sampling': 'linear'}\n"
     ]
    }
   ],
   "source": [
    "tuner.search_space_summary()"
   ]
  },
  {
   "cell_type": "code",
   "execution_count": 69,
   "id": "4e438ac2-25ba-43ef-b78a-9c55536140e5",
   "metadata": {},
   "outputs": [],
   "source": [
    "from sklearn.model_selection import train_test_split\n",
    "X_train, X_test, y_train, y_test = train_test_split(x2, y2, test_size=0.3, random_state=0)"
   ]
  },
  {
   "cell_type": "code",
   "execution_count": 70,
   "id": "b0d3b61d-43a3-4643-878c-94c67787388c",
   "metadata": {},
   "outputs": [],
   "source": [
    "\n",
    "tuner.search(X_train, y_train,\n",
    "             epochs=5,\n",
    "             validation_data=(X_test, y_test)\n",
    "             )"
   ]
  },
  {
   "cell_type": "code",
   "execution_count": 71,
   "id": "22383613-1688-450c-8300-0944557e6753",
   "metadata": {},
   "outputs": [
    {
     "name": "stdout",
     "output_type": "stream",
     "text": [
      "Results summary\n",
      "Results in project\\grevvvvvvvv\n",
      "Showing 10 best trials\n",
      "Objective(name=\"val_accuracy\", direction=\"max\")\n",
      "\n",
      "Trial 4 summary\n",
      "Hyperparameters:\n",
      "num_layers: 10\n",
      "units_0: 150\n",
      "units_1: 53\n",
      "learning_rate: 0.01\n",
      "units_2: 70\n",
      "units_3: 186\n",
      "units_4: 225\n",
      "units_5: 228\n",
      "units_6: 184\n",
      "units_7: 168\n",
      "units_8: 253\n",
      "units_9: 43\n",
      "units_10: 214\n",
      "units_11: 159\n",
      "units_12: 256\n",
      "units_13: 177\n",
      "units_14: 174\n",
      "Score: 0.8444444338480631\n",
      "\n",
      "Trial 1 summary\n",
      "Hyperparameters:\n",
      "num_layers: 2\n",
      "units_0: 255\n",
      "units_1: 82\n",
      "learning_rate: 0.001\n",
      "units_2: 131\n",
      "units_3: 177\n",
      "units_4: 76\n",
      "Score: 0.8305555383364359\n",
      "\n",
      "Trial 0 summary\n",
      "Hyperparameters:\n",
      "num_layers: 5\n",
      "units_0: 143\n",
      "units_1: 49\n",
      "learning_rate: 0.001\n",
      "units_2: 32\n",
      "units_3: 32\n",
      "units_4: 32\n",
      "Score: 0.8277777632077535\n",
      "\n",
      "Trial 2 summary\n",
      "Hyperparameters:\n",
      "num_layers: 2\n",
      "units_0: 126\n",
      "units_1: 214\n",
      "learning_rate: 0.0001\n",
      "units_2: 129\n",
      "units_3: 253\n",
      "units_4: 41\n",
      "Score: 0.8222222328186035\n",
      "\n",
      "Trial 3 summary\n",
      "Hyperparameters:\n",
      "num_layers: 15\n",
      "units_0: 185\n",
      "units_1: 32\n",
      "learning_rate: 0.0001\n",
      "units_2: 177\n",
      "units_3: 78\n",
      "units_4: 172\n",
      "units_5: 32\n",
      "units_6: 32\n",
      "units_7: 32\n",
      "units_8: 32\n",
      "units_9: 32\n",
      "units_10: 32\n",
      "units_11: 32\n",
      "units_12: 32\n",
      "units_13: 32\n",
      "units_14: 32\n",
      "Score: 0.7166666785875956\n"
     ]
    }
   ],
   "source": [
    "tuner.results_summary()"
   ]
  },
  {
   "cell_type": "markdown",
   "id": "8b464eea-1728-4bcc-ae88-160e9bc44c0b",
   "metadata": {},
   "source": [
    "### Prepare the model"
   ]
  },
  {
   "cell_type": "code",
   "execution_count": 83,
   "id": "03e5cf41-99ae-4b98-bb39-1fb051550e38",
   "metadata": {},
   "outputs": [],
   "source": [
    "from keras.models import Sequential\n",
    "from keras.layers import Dropout"
   ]
  },
  {
   "cell_type": "code",
   "execution_count": 84,
   "id": "765bce16-bbc9-4ba0-9682-3b1b29f37b0f",
   "metadata": {},
   "outputs": [],
   "source": [
    "model=Sequential()"
   ]
  },
  {
   "cell_type": "code",
   "execution_count": 85,
   "id": "b2cc362d-a07d-42a6-a48a-be230f4187a8",
   "metadata": {},
   "outputs": [],
   "source": [
    "num_layers=10"
   ]
  },
  {
   "cell_type": "code",
   "execution_count": 86,
   "id": "768e1741-247d-4351-8c3f-70c7405b9925",
   "metadata": {},
   "outputs": [
    {
     "name": "stdout",
     "output_type": "stream",
     "text": [
      "<class 'pandas.core.frame.DataFrame'>\n",
      "RangeIndex: 400 entries, 0 to 399\n",
      "Data columns (total 9 columns):\n",
      " #   Column             Non-Null Count  Dtype  \n",
      "---  ------             --------------  -----  \n",
      " 0   Serial No.         400 non-null    int64  \n",
      " 1   GRE Score          400 non-null    int64  \n",
      " 2   TOEFL Score        400 non-null    int64  \n",
      " 3   University Rating  400 non-null    int64  \n",
      " 4   SOP                400 non-null    float64\n",
      " 5   LOR                400 non-null    float64\n",
      " 6   CGPA               400 non-null    float64\n",
      " 7   Research           400 non-null    int64  \n",
      " 8   Chance of Admit    400 non-null    int64  \n",
      "dtypes: float64(3), int64(6)\n",
      "memory usage: 28.2 KB\n"
     ]
    }
   ],
   "source": [
    "arr=np.array([150,53,70,186,225,228,184,168,253,43])\n",
    "df.info()"
   ]
  },
  {
   "cell_type": "code",
   "execution_count": 87,
   "id": "70b745d1-64f1-4808-8a46-6cc801107bb1",
   "metadata": {},
   "outputs": [],
   "source": [
    "model.add((Dense(units=arr[0],kernel_initializer=\"he_uniform\",activation=\"relu\",input_dim=7)))\n",
    "model.add(Dropout(0.3))"
   ]
  },
  {
   "cell_type": "code",
   "execution_count": 89,
   "id": "a3c1e75f-6096-4a32-9aa2-dcb73fbf5c44",
   "metadata": {},
   "outputs": [],
   "source": [
    "for i in range(1,num_layers):\n",
    "    model.add((Dense(units=arr[i],kernel_initializer=\"he_uniform\",activation=\"relu\")))\n",
    "    model.add(Dropout(0.3))\n",
    "model.add(Dense(units=1,kernel_initializer=\"glorot_uniform\",activation=\"sigmoid\"))"
   ]
  },
  {
   "cell_type": "code",
   "execution_count": 90,
   "id": "1f9af3ed-912b-4e65-84af-3466b2cdf12b",
   "metadata": {},
   "outputs": [
    {
     "name": "stdout",
     "output_type": "stream",
     "text": [
      "Model: \"sequential_1\"\n",
      "_________________________________________________________________\n",
      " Layer (type)                Output Shape              Param #   \n",
      "=================================================================\n",
      " dense_11 (Dense)            (None, 150)               1200      \n",
      "                                                                 \n",
      " dropout (Dropout)           (None, 150)               0         \n",
      "                                                                 \n",
      " dense_12 (Dense)            (None, 53)                8003      \n",
      "                                                                 \n",
      " dropout_1 (Dropout)         (None, 53)                0         \n",
      "                                                                 \n",
      " dense_13 (Dense)            (None, 70)                3780      \n",
      "                                                                 \n",
      " dropout_2 (Dropout)         (None, 70)                0         \n",
      "                                                                 \n",
      " dense_14 (Dense)            (None, 186)               13206     \n",
      "                                                                 \n",
      " dropout_3 (Dropout)         (None, 186)               0         \n",
      "                                                                 \n",
      " dense_15 (Dense)            (None, 225)               42075     \n",
      "                                                                 \n",
      " dropout_4 (Dropout)         (None, 225)               0         \n",
      "                                                                 \n",
      " dense_16 (Dense)            (None, 228)               51528     \n",
      "                                                                 \n",
      " dropout_5 (Dropout)         (None, 228)               0         \n",
      "                                                                 \n",
      " dense_17 (Dense)            (None, 184)               42136     \n",
      "                                                                 \n",
      " dropout_6 (Dropout)         (None, 184)               0         \n",
      "                                                                 \n",
      " dense_18 (Dense)            (None, 168)               31080     \n",
      "                                                                 \n",
      " dropout_7 (Dropout)         (None, 168)               0         \n",
      "                                                                 \n",
      " dense_19 (Dense)            (None, 253)               42757     \n",
      "                                                                 \n",
      " dropout_8 (Dropout)         (None, 253)               0         \n",
      "                                                                 \n",
      " dense_20 (Dense)            (None, 43)                10922     \n",
      "                                                                 \n",
      " dropout_9 (Dropout)         (None, 43)                0         \n",
      "                                                                 \n",
      " dense_21 (Dense)            (None, 1)                 44        \n",
      "                                                                 \n",
      "=================================================================\n",
      "Total params: 246,731\n",
      "Trainable params: 246,731\n",
      "Non-trainable params: 0\n",
      "_________________________________________________________________\n"
     ]
    }
   ],
   "source": [
    "model.summary()"
   ]
  },
  {
   "cell_type": "code",
   "execution_count": 91,
   "id": "46e58577-a661-453c-9c20-1c659251aaee",
   "metadata": {},
   "outputs": [],
   "source": [
    "model.compile(optimizer=\"adam\",loss=\"binary_crossentropy\",metrics=[[\"accuracy\"]])"
   ]
  },
  {
   "cell_type": "code",
   "execution_count": 92,
   "id": "d1df6f3d-7fb1-4236-be88-f42742581918",
   "metadata": {},
   "outputs": [
    {
     "name": "stdout",
     "output_type": "stream",
     "text": [
      "Epoch 1/100\n",
      "19/19 [==============================] - 4s 49ms/step - loss: 2.0825 - accuracy: 0.5134 - val_loss: 0.5776 - val_accuracy: 0.6989\n",
      "Epoch 2/100\n",
      "19/19 [==============================] - 0s 16ms/step - loss: 1.2853 - accuracy: 0.5027 - val_loss: 0.6033 - val_accuracy: 0.7527\n",
      "Epoch 3/100\n",
      "19/19 [==============================] - 0s 16ms/step - loss: 0.8564 - accuracy: 0.5401 - val_loss: 0.6241 - val_accuracy: 0.7957\n",
      "Epoch 4/100\n",
      "19/19 [==============================] - 0s 16ms/step - loss: 0.7194 - accuracy: 0.5989 - val_loss: 0.5940 - val_accuracy: 0.8387\n",
      "Epoch 5/100\n",
      "19/19 [==============================] - 0s 16ms/step - loss: 0.7948 - accuracy: 0.5722 - val_loss: 0.5734 - val_accuracy: 0.8602\n",
      "Epoch 6/100\n",
      "19/19 [==============================] - 0s 16ms/step - loss: 0.6205 - accuracy: 0.6898 - val_loss: 0.5331 - val_accuracy: 0.8387\n",
      "Epoch 7/100\n",
      "19/19 [==============================] - 0s 16ms/step - loss: 0.7070 - accuracy: 0.6578 - val_loss: 0.4526 - val_accuracy: 0.8495\n",
      "Epoch 8/100\n",
      "19/19 [==============================] - 0s 15ms/step - loss: 0.6889 - accuracy: 0.6043 - val_loss: 0.4091 - val_accuracy: 0.8387\n",
      "Epoch 9/100\n",
      "19/19 [==============================] - 0s 16ms/step - loss: 0.6055 - accuracy: 0.6578 - val_loss: 0.3470 - val_accuracy: 0.8387\n",
      "Epoch 10/100\n",
      "19/19 [==============================] - 0s 16ms/step - loss: 0.4759 - accuracy: 0.7540 - val_loss: 0.3107 - val_accuracy: 0.8495\n",
      "Epoch 11/100\n",
      "19/19 [==============================] - 0s 16ms/step - loss: 0.5102 - accuracy: 0.7594 - val_loss: 0.3082 - val_accuracy: 0.8495\n",
      "Epoch 12/100\n",
      "19/19 [==============================] - 0s 18ms/step - loss: 0.4266 - accuracy: 0.8289 - val_loss: 0.3005 - val_accuracy: 0.8495\n",
      "Epoch 13/100\n",
      "19/19 [==============================] - 0s 16ms/step - loss: 0.3806 - accuracy: 0.8075 - val_loss: 0.2972 - val_accuracy: 0.8495\n",
      "Epoch 14/100\n",
      "19/19 [==============================] - 0s 16ms/step - loss: 0.5678 - accuracy: 0.8128 - val_loss: 0.2951 - val_accuracy: 0.8495\n",
      "Epoch 15/100\n",
      "19/19 [==============================] - 0s 15ms/step - loss: 0.4240 - accuracy: 0.8075 - val_loss: 0.3053 - val_accuracy: 0.8495\n",
      "Epoch 16/100\n",
      "19/19 [==============================] - 0s 16ms/step - loss: 0.3352 - accuracy: 0.8503 - val_loss: 0.3123 - val_accuracy: 0.8495\n",
      "Epoch 17/100\n",
      "19/19 [==============================] - 0s 16ms/step - loss: 0.2636 - accuracy: 0.8610 - val_loss: 0.3325 - val_accuracy: 0.8495\n",
      "Epoch 18/100\n",
      "19/19 [==============================] - 0s 17ms/step - loss: 0.3445 - accuracy: 0.8877 - val_loss: 0.3169 - val_accuracy: 0.8495\n",
      "Epoch 19/100\n",
      "19/19 [==============================] - 0s 17ms/step - loss: 0.3912 - accuracy: 0.8663 - val_loss: 0.3032 - val_accuracy: 0.8602\n",
      "Epoch 20/100\n",
      "19/19 [==============================] - 0s 16ms/step - loss: 0.3294 - accuracy: 0.8824 - val_loss: 0.3461 - val_accuracy: 0.8495\n",
      "Epoch 21/100\n",
      "19/19 [==============================] - 0s 17ms/step - loss: 0.3443 - accuracy: 0.8717 - val_loss: 0.3233 - val_accuracy: 0.8602\n",
      "Epoch 22/100\n",
      "19/19 [==============================] - 0s 17ms/step - loss: 0.3281 - accuracy: 0.8824 - val_loss: 0.3281 - val_accuracy: 0.8495\n",
      "Epoch 23/100\n",
      "19/19 [==============================] - 0s 17ms/step - loss: 0.2965 - accuracy: 0.8717 - val_loss: 0.3523 - val_accuracy: 0.8602\n",
      "Epoch 24/100\n",
      "19/19 [==============================] - 0s 20ms/step - loss: 0.3047 - accuracy: 0.8930 - val_loss: 0.3581 - val_accuracy: 0.8602\n",
      "Epoch 25/100\n",
      "19/19 [==============================] - 0s 16ms/step - loss: 0.2768 - accuracy: 0.8770 - val_loss: 0.3354 - val_accuracy: 0.8495\n",
      "Epoch 26/100\n",
      "19/19 [==============================] - 0s 18ms/step - loss: 0.2609 - accuracy: 0.9037 - val_loss: 0.3583 - val_accuracy: 0.8495\n",
      "Epoch 27/100\n",
      "19/19 [==============================] - 0s 17ms/step - loss: 0.2921 - accuracy: 0.8930 - val_loss: 0.3615 - val_accuracy: 0.8495\n",
      "Epoch 28/100\n",
      "19/19 [==============================] - 0s 17ms/step - loss: 0.2557 - accuracy: 0.8984 - val_loss: 0.3308 - val_accuracy: 0.8602\n",
      "Epoch 29/100\n",
      "19/19 [==============================] - 0s 17ms/step - loss: 0.3627 - accuracy: 0.8610 - val_loss: 0.3224 - val_accuracy: 0.8602\n",
      "Epoch 30/100\n",
      "19/19 [==============================] - 0s 18ms/step - loss: 0.2390 - accuracy: 0.9037 - val_loss: 0.3528 - val_accuracy: 0.8495\n",
      "Epoch 31/100\n",
      "19/19 [==============================] - 0s 19ms/step - loss: 0.2880 - accuracy: 0.8717 - val_loss: 0.3434 - val_accuracy: 0.8495\n",
      "Epoch 32/100\n",
      "19/19 [==============================] - 0s 19ms/step - loss: 0.3252 - accuracy: 0.8930 - val_loss: 0.3060 - val_accuracy: 0.8602\n",
      "Epoch 33/100\n",
      "19/19 [==============================] - 0s 17ms/step - loss: 0.2662 - accuracy: 0.8877 - val_loss: 0.3075 - val_accuracy: 0.8495\n",
      "Epoch 34/100\n",
      "19/19 [==============================] - 0s 17ms/step - loss: 0.2552 - accuracy: 0.9037 - val_loss: 0.3430 - val_accuracy: 0.8495\n",
      "Epoch 35/100\n",
      "19/19 [==============================] - 0s 17ms/step - loss: 0.3188 - accuracy: 0.8770 - val_loss: 0.3300 - val_accuracy: 0.8495\n",
      "Epoch 36/100\n",
      "19/19 [==============================] - 0s 17ms/step - loss: 0.2337 - accuracy: 0.8984 - val_loss: 0.3845 - val_accuracy: 0.8495\n",
      "Epoch 37/100\n",
      "19/19 [==============================] - 0s 17ms/step - loss: 0.2888 - accuracy: 0.8984 - val_loss: 0.3784 - val_accuracy: 0.8495\n",
      "Epoch 38/100\n",
      "19/19 [==============================] - 0s 17ms/step - loss: 0.2512 - accuracy: 0.8877 - val_loss: 0.3309 - val_accuracy: 0.8495\n",
      "Epoch 39/100\n",
      "19/19 [==============================] - 0s 17ms/step - loss: 0.2551 - accuracy: 0.9037 - val_loss: 0.3216 - val_accuracy: 0.8602\n",
      "Epoch 40/100\n",
      "19/19 [==============================] - 0s 17ms/step - loss: 0.2511 - accuracy: 0.9037 - val_loss: 0.3532 - val_accuracy: 0.8602\n",
      "Epoch 41/100\n",
      "19/19 [==============================] - 0s 19ms/step - loss: 0.2438 - accuracy: 0.8984 - val_loss: 0.3680 - val_accuracy: 0.8602\n",
      "Epoch 42/100\n",
      "19/19 [==============================] - 0s 17ms/step - loss: 0.2800 - accuracy: 0.9091 - val_loss: 0.3340 - val_accuracy: 0.8495\n",
      "Epoch 43/100\n",
      "19/19 [==============================] - 0s 17ms/step - loss: 0.2535 - accuracy: 0.9091 - val_loss: 0.3470 - val_accuracy: 0.8602\n",
      "Epoch 44/100\n",
      "19/19 [==============================] - 0s 17ms/step - loss: 0.2730 - accuracy: 0.8984 - val_loss: 0.3859 - val_accuracy: 0.8602\n",
      "Epoch 45/100\n",
      "19/19 [==============================] - 0s 16ms/step - loss: 0.2478 - accuracy: 0.9251 - val_loss: 0.3692 - val_accuracy: 0.8602\n",
      "Epoch 46/100\n",
      "19/19 [==============================] - 0s 17ms/step - loss: 0.2873 - accuracy: 0.9091 - val_loss: 0.3378 - val_accuracy: 0.8602\n",
      "Epoch 47/100\n",
      "19/19 [==============================] - 0s 17ms/step - loss: 0.2512 - accuracy: 0.9091 - val_loss: 0.3549 - val_accuracy: 0.8495\n",
      "Epoch 48/100\n",
      "19/19 [==============================] - 0s 17ms/step - loss: 0.2516 - accuracy: 0.9251 - val_loss: 0.3704 - val_accuracy: 0.8495\n",
      "Epoch 49/100\n",
      "19/19 [==============================] - 0s 17ms/step - loss: 0.2153 - accuracy: 0.8877 - val_loss: 0.3932 - val_accuracy: 0.8495\n",
      "Epoch 50/100\n",
      "19/19 [==============================] - 0s 17ms/step - loss: 0.2854 - accuracy: 0.8930 - val_loss: 0.3857 - val_accuracy: 0.8495\n",
      "Epoch 51/100\n",
      "19/19 [==============================] - 0s 17ms/step - loss: 0.1975 - accuracy: 0.9198 - val_loss: 0.4104 - val_accuracy: 0.8495\n",
      "Epoch 52/100\n",
      "19/19 [==============================] - 0s 17ms/step - loss: 0.2370 - accuracy: 0.9144 - val_loss: 0.3947 - val_accuracy: 0.8387\n",
      "Epoch 53/100\n",
      "19/19 [==============================] - 0s 16ms/step - loss: 0.2388 - accuracy: 0.9144 - val_loss: 0.3471 - val_accuracy: 0.8387\n",
      "Epoch 54/100\n",
      "19/19 [==============================] - 0s 15ms/step - loss: 0.1869 - accuracy: 0.9305 - val_loss: 0.3871 - val_accuracy: 0.8387\n",
      "Epoch 55/100\n",
      "19/19 [==============================] - 0s 17ms/step - loss: 0.2553 - accuracy: 0.8877 - val_loss: 0.3488 - val_accuracy: 0.8387\n",
      "Epoch 56/100\n",
      "19/19 [==============================] - 0s 16ms/step - loss: 0.2218 - accuracy: 0.9037 - val_loss: 0.3426 - val_accuracy: 0.8495\n",
      "Epoch 57/100\n",
      "19/19 [==============================] - 0s 16ms/step - loss: 0.2513 - accuracy: 0.9251 - val_loss: 0.3509 - val_accuracy: 0.8387\n",
      "Epoch 58/100\n",
      "19/19 [==============================] - 0s 17ms/step - loss: 0.2038 - accuracy: 0.8984 - val_loss: 0.3338 - val_accuracy: 0.8495\n",
      "Epoch 59/100\n",
      "19/19 [==============================] - 0s 17ms/step - loss: 0.2419 - accuracy: 0.8930 - val_loss: 0.3531 - val_accuracy: 0.8495\n",
      "Epoch 60/100\n",
      "19/19 [==============================] - 0s 17ms/step - loss: 0.2747 - accuracy: 0.8984 - val_loss: 0.3430 - val_accuracy: 0.8387\n",
      "Epoch 61/100\n",
      "19/19 [==============================] - 0s 16ms/step - loss: 0.2284 - accuracy: 0.9037 - val_loss: 0.3381 - val_accuracy: 0.8387\n",
      "Epoch 62/100\n",
      "19/19 [==============================] - 0s 16ms/step - loss: 0.2716 - accuracy: 0.8930 - val_loss: 0.3391 - val_accuracy: 0.8387\n",
      "Epoch 63/100\n",
      "19/19 [==============================] - 0s 16ms/step - loss: 0.2199 - accuracy: 0.9251 - val_loss: 0.3409 - val_accuracy: 0.8387\n",
      "Epoch 64/100\n",
      "19/19 [==============================] - 0s 16ms/step - loss: 0.2320 - accuracy: 0.9358 - val_loss: 0.3504 - val_accuracy: 0.8387\n",
      "Epoch 65/100\n",
      "19/19 [==============================] - 0s 16ms/step - loss: 0.2135 - accuracy: 0.9091 - val_loss: 0.3557 - val_accuracy: 0.8387\n",
      "Epoch 66/100\n",
      "19/19 [==============================] - 0s 17ms/step - loss: 0.1936 - accuracy: 0.9465 - val_loss: 0.3537 - val_accuracy: 0.8387\n",
      "Epoch 67/100\n",
      "19/19 [==============================] - 0s 16ms/step - loss: 0.2028 - accuracy: 0.9091 - val_loss: 0.3704 - val_accuracy: 0.8387\n",
      "Epoch 68/100\n",
      "19/19 [==============================] - 0s 16ms/step - loss: 0.2155 - accuracy: 0.9251 - val_loss: 0.3949 - val_accuracy: 0.8387\n",
      "Epoch 69/100\n",
      "19/19 [==============================] - 0s 17ms/step - loss: 0.2031 - accuracy: 0.9251 - val_loss: 0.3883 - val_accuracy: 0.8387\n",
      "Epoch 70/100\n",
      "19/19 [==============================] - 0s 17ms/step - loss: 0.2456 - accuracy: 0.9091 - val_loss: 0.3274 - val_accuracy: 0.8495\n",
      "Epoch 71/100\n",
      "19/19 [==============================] - 0s 17ms/step - loss: 0.2022 - accuracy: 0.9251 - val_loss: 0.3732 - val_accuracy: 0.8387\n",
      "Epoch 72/100\n",
      "19/19 [==============================] - 0s 15ms/step - loss: 0.2211 - accuracy: 0.9144 - val_loss: 0.3942 - val_accuracy: 0.8387\n",
      "Epoch 73/100\n",
      "19/19 [==============================] - 0s 16ms/step - loss: 0.2327 - accuracy: 0.9037 - val_loss: 0.3882 - val_accuracy: 0.8387\n",
      "Epoch 74/100\n",
      "19/19 [==============================] - 0s 15ms/step - loss: 0.2104 - accuracy: 0.9091 - val_loss: 0.4308 - val_accuracy: 0.8387\n",
      "Epoch 75/100\n",
      "19/19 [==============================] - 0s 15ms/step - loss: 0.2096 - accuracy: 0.9198 - val_loss: 0.3891 - val_accuracy: 0.8387\n",
      "Epoch 76/100\n",
      "19/19 [==============================] - 0s 15ms/step - loss: 0.2098 - accuracy: 0.9358 - val_loss: 0.3523 - val_accuracy: 0.8387\n",
      "Epoch 77/100\n",
      "19/19 [==============================] - 0s 16ms/step - loss: 0.2486 - accuracy: 0.9198 - val_loss: 0.3664 - val_accuracy: 0.8387\n",
      "Epoch 78/100\n",
      "19/19 [==============================] - 0s 16ms/step - loss: 0.1981 - accuracy: 0.9358 - val_loss: 0.4175 - val_accuracy: 0.8387\n",
      "Epoch 79/100\n",
      "19/19 [==============================] - 0s 16ms/step - loss: 0.2225 - accuracy: 0.9198 - val_loss: 0.3997 - val_accuracy: 0.8387\n",
      "Epoch 80/100\n",
      "19/19 [==============================] - 0s 16ms/step - loss: 0.1783 - accuracy: 0.9305 - val_loss: 0.4169 - val_accuracy: 0.8387\n",
      "Epoch 81/100\n",
      "19/19 [==============================] - 0s 16ms/step - loss: 0.2069 - accuracy: 0.9305 - val_loss: 0.4008 - val_accuracy: 0.8280\n",
      "Epoch 82/100\n",
      "19/19 [==============================] - 0s 16ms/step - loss: 0.2691 - accuracy: 0.9037 - val_loss: 0.3457 - val_accuracy: 0.8280\n",
      "Epoch 83/100\n",
      "19/19 [==============================] - 0s 16ms/step - loss: 0.1935 - accuracy: 0.9305 - val_loss: 0.4064 - val_accuracy: 0.8172\n",
      "Epoch 84/100\n",
      "19/19 [==============================] - 0s 16ms/step - loss: 0.2361 - accuracy: 0.9144 - val_loss: 0.4566 - val_accuracy: 0.8280\n",
      "Epoch 85/100\n",
      "19/19 [==============================] - 0s 16ms/step - loss: 0.2908 - accuracy: 0.9305 - val_loss: 0.3371 - val_accuracy: 0.8172\n",
      "Epoch 86/100\n",
      "19/19 [==============================] - 0s 18ms/step - loss: 0.2442 - accuracy: 0.8984 - val_loss: 0.3371 - val_accuracy: 0.8280\n",
      "Epoch 87/100\n",
      "19/19 [==============================] - 0s 17ms/step - loss: 0.2214 - accuracy: 0.9091 - val_loss: 0.3406 - val_accuracy: 0.8280\n",
      "Epoch 88/100\n",
      "19/19 [==============================] - 0s 15ms/step - loss: 0.1923 - accuracy: 0.9091 - val_loss: 0.3546 - val_accuracy: 0.8387\n",
      "Epoch 89/100\n",
      "19/19 [==============================] - 0s 16ms/step - loss: 0.1882 - accuracy: 0.9412 - val_loss: 0.4102 - val_accuracy: 0.8387\n",
      "Epoch 90/100\n",
      "19/19 [==============================] - 0s 15ms/step - loss: 0.1648 - accuracy: 0.9091 - val_loss: 0.4098 - val_accuracy: 0.8387\n",
      "Epoch 91/100\n",
      "19/19 [==============================] - 0s 16ms/step - loss: 0.1988 - accuracy: 0.9412 - val_loss: 0.4056 - val_accuracy: 0.8387\n",
      "Epoch 92/100\n",
      "19/19 [==============================] - 0s 17ms/step - loss: 0.1968 - accuracy: 0.9412 - val_loss: 0.3692 - val_accuracy: 0.8280\n",
      "Epoch 93/100\n",
      "19/19 [==============================] - 0s 17ms/step - loss: 0.1605 - accuracy: 0.9358 - val_loss: 0.4121 - val_accuracy: 0.8280\n",
      "Epoch 94/100\n",
      "19/19 [==============================] - 0s 16ms/step - loss: 0.1837 - accuracy: 0.9412 - val_loss: 0.3895 - val_accuracy: 0.8280\n",
      "Epoch 95/100\n",
      "19/19 [==============================] - 0s 19ms/step - loss: 0.2168 - accuracy: 0.9144 - val_loss: 0.3670 - val_accuracy: 0.8387\n",
      "Epoch 96/100\n",
      "19/19 [==============================] - 0s 17ms/step - loss: 0.1730 - accuracy: 0.9251 - val_loss: 0.3577 - val_accuracy: 0.8387\n",
      "Epoch 97/100\n",
      "19/19 [==============================] - 0s 17ms/step - loss: 0.1835 - accuracy: 0.9144 - val_loss: 0.3814 - val_accuracy: 0.8387\n",
      "Epoch 98/100\n",
      "19/19 [==============================] - 0s 16ms/step - loss: 0.1769 - accuracy: 0.9305 - val_loss: 0.3972 - val_accuracy: 0.8387\n",
      "Epoch 99/100\n",
      "19/19 [==============================] - 0s 17ms/step - loss: 0.1949 - accuracy: 0.9305 - val_loss: 0.3982 - val_accuracy: 0.8387\n",
      "Epoch 100/100\n",
      "19/19 [==============================] - 0s 16ms/step - loss: 0.2191 - accuracy: 0.9305 - val_loss: 0.3850 - val_accuracy: 0.8387\n"
     ]
    }
   ],
   "source": [
    "build_model=model.fit(X_train,y_train,validation_split=0.33,batch_size=10,epochs=100)"
   ]
  },
  {
   "cell_type": "code",
   "execution_count": 94,
   "id": "2f9d9cd8-3029-4d81-ba11-d40ac62539dd",
   "metadata": {},
   "outputs": [
    {
     "name": "stdout",
     "output_type": "stream",
     "text": [
      "4/4 [==============================] - 1s 9ms/step\n"
     ]
    }
   ],
   "source": [
    "y_pred=model.predict(X_test)"
   ]
  },
  {
   "cell_type": "code",
   "execution_count": 95,
   "id": "01a6f047-503c-47f0-a9bb-411c3adf8c1e",
   "metadata": {},
   "outputs": [],
   "source": [
    "from sklearn.metrics import confusion_matrix"
   ]
  },
  {
   "cell_type": "code",
   "execution_count": 97,
   "id": "64fec836-c251-4108-b1ae-54f3a66e8d99",
   "metadata": {},
   "outputs": [],
   "source": [
    "y_pred=(y_pred>0.5)\n",
    "cn=confusion_matrix(y_test,y_pred)"
   ]
  },
  {
   "cell_type": "code",
   "execution_count": 98,
   "id": "b99d6cee-a6b0-489a-bab6-87dda6250270",
   "metadata": {},
   "outputs": [
    {
     "data": {
      "text/plain": [
       "array([[54, 12],\n",
       "       [11, 43]], dtype=int64)"
      ]
     },
     "execution_count": 98,
     "metadata": {},
     "output_type": "execute_result"
    }
   ],
   "source": [
    "cn"
   ]
  },
  {
   "cell_type": "code",
   "execution_count": 99,
   "id": "fe54b927-720a-4655-9f7f-b7e02e5a13de",
   "metadata": {},
   "outputs": [],
   "source": [
    "from sklearn.metrics import accuracy_score"
   ]
  },
  {
   "cell_type": "code",
   "execution_count": 100,
   "id": "60d9364c-610e-4f52-a614-bda385e33838",
   "metadata": {},
   "outputs": [],
   "source": [
    "scores=accuracy_score(y_pred,y_test)"
   ]
  },
  {
   "cell_type": "code",
   "execution_count": 101,
   "id": "c8dccda3-802d-4bfd-8153-8953e060bb8b",
   "metadata": {},
   "outputs": [
    {
     "data": {
      "text/plain": [
       "0.8083333333333333"
      ]
     },
     "execution_count": 101,
     "metadata": {},
     "output_type": "execute_result"
    }
   ],
   "source": [
    "scores"
   ]
  },
  {
   "cell_type": "code",
   "execution_count": 102,
   "id": "610eb353-24d0-4862-9dfa-71d1863eba8c",
   "metadata": {},
   "outputs": [
    {
     "name": "stdout",
     "output_type": "stream",
     "text": [
      "dict_keys(['loss', 'accuracy', 'val_loss', 'val_accuracy'])\n"
     ]
    }
   ],
   "source": [
    "print(build_model.history.keys())"
   ]
  },
  {
   "cell_type": "code",
   "execution_count": 105,
   "id": "7ac8eb8c-0609-4c54-85cb-1558d85ff4ef",
   "metadata": {},
   "outputs": [
    {
     "data": {
      "image/png": "[encoded data removed]",
      "text/plain": [
       "<Figure size 640x480 with 1 Axes>"
      ]
     },
     "metadata": {},
     "output_type": "display_data"
    }
   ],
   "source": [
    "plt.plot(build_model.history['accuracy'])\n",
    "plt.plot(build_model.history['val_accuracy'])\n",
    "plt.title('model accuracy')\n",
    "plt.ylabel('accuracy')\n",
    "plt.xlabel('epoch')\n",
    "plt.legend(['train', 'test'], loc='upper left')\n",
    "plt.show()"
   ]
  },
  {
   "cell_type": "code",
   "execution_count": null,
   "id": "e04718bf-4546-42b7-bb7f-ef655d490e13",
   "metadata": {},
   "outputs": [],
   "source": []
  }
 ],
 "metadata": {
  "kernelspec": {
   "display_name": "Python 3 (ipykernel)",
   "language": "python",
   "name": "python3"
  },
  "language_info": {
   "codemirror_mode": {
    "name": "ipython",
    "version": 3
   },
   "file_extension": ".py",
   "mimetype": "text/x-python",
   "name": "python",
   "nbconvert_exporter": "python",
   "pygments_lexer": "ipython3",
   "version": "3.9.18"
  }
 },
 "nbformat": 4,
 "nbformat_minor": 5
}
